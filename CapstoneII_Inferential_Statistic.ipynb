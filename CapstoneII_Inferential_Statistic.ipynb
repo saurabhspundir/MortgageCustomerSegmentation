{
 "cells": [
  {
   "cell_type": "code",
   "execution_count": 1,
   "metadata": {},
   "outputs": [],
   "source": [
    "import numpy as np\n",
    "import pandas as pd\n",
    "import pickle\n",
    "from IPython.core.display import HTML\n",
    "import scipy.stats as stats\n",
    "import statsmodels.stats.weightstats as wstats\n",
    "import math"
   ]
  },
  {
   "cell_type": "markdown",
   "metadata": {},
   "source": [
    "<div class=\"span5 alert alert-info\">\n",
    "<h2>Note book details</h2>\n",
    "\n",
    "<p> This notebook is for <b>data story</b> for <b>Mortgage client segmentation</b> project.</p>\n",
    "\n",
    "<p> Notes.</p>\n",
    "<ol>\n",
    "<li>  The file will statistical analysis to establish whether one field has a significant impact on the another</li> \n",
    "<li>  The file will address the explore some hypothesis on the data</li> \n",
    "<li>What are the null and alternate hypotheses?</li>\n",
    "<li>Compute margin of error, confidence interval, and p-value.</li>\n",
    "<li>Write a story describing the statistical significance in the context or the original problem.</li>\n",
    "<li> Explore following data and hypothesis : \n",
    "    <ul>\n",
    "     <li>Exploration 1 :Gender for loan approve and rejection</li>\n",
    "    </ul>\n",
    "</li>        \n",
    "</ol>\n",
    "</div>"
   ]
  },
  {
   "cell_type": "code",
   "execution_count": 2,
   "metadata": {},
   "outputs": [],
   "source": [
    "pd.set_option('display.max_colwidth', -1)\n",
    "color_success='#00ff66'#kickstarter green#'#2BDE73'\n",
    "color_fail='#FF192F'#'#FFC7CE'#'#FFC7CE'#'#FF0000' # red\n",
    "stateSuccess='Successful'\n",
    "stateFail='Failed'\n",
    "# the statistical significance value is 5%\n",
    "siginificane_level =0.005\n",
    "# for 95% the critcal z value is 1.96 ( based on z table)\n",
    "critical_value =1.96\n",
    "noofsample=100"
   ]
  },
  {
   "cell_type": "code",
   "execution_count": 3,
   "metadata": {},
   "outputs": [],
   "source": [
    "# from IPython.core.display import HTML\n",
    "css = open('style/style-table.css').read() + open('style/style-notebook.css').read()\n",
    "cssAnalysis = '.analysis {background:#5bffc0; }'\n",
    "HTML('<style>{} {}</style>'.format(css,cssAnalysis))\n",
    "pickle_file='df_selectdata_hmda_cenus.sa'\n",
    "df_selectdata = pickle.load( open( pickle_file, \"rb\" ) )\n",
    "#df_final_months.info()\n",
    "#df_final_months.head()"
   ]
  },
  {
   "cell_type": "code",
   "execution_count": 4,
   "metadata": {},
   "outputs": [
    {
     "name": "stdout",
     "output_type": "stream",
     "text": [
      "<class 'pandas.core.frame.DataFrame'>\n",
      "Int64Index: 31630026 entries, 0 to 49681\n",
      "Data columns (total 21 columns):\n",
      "Year                    int64\n",
      "PropertyType            int64\n",
      "LoanPurpose             float64\n",
      "Occupancy               float64\n",
      "LoanAmount              float64\n",
      "ActionType              float64\n",
      "MSA                     float64\n",
      "StateCode               float64\n",
      "CountyCode              float64\n",
      "ApplicantEthnicity      float64\n",
      "CoApplicantEthnicity    float64\n",
      "ApplicantRace           float64\n",
      "CoApplicantRace         float64\n",
      "ApplicantSex            float64\n",
      "CoApplicantSex          float64\n",
      "ApplicantIncome         float64\n",
      "PurchaserType           float64\n",
      "StateName               object\n",
      "CountyName              object\n",
      "CLASSCODEFIPS           object\n",
      "Result                  int64\n",
      "dtypes: float64(15), int64(3), object(3)\n",
      "memory usage: 5.2+ GB\n"
     ]
    }
   ],
   "source": [
    "df_selectdata.info()"
   ]
  },
  {
   "cell_type": "raw",
   "metadata": {},
   "source": [
    "def createResultCol(row):\n",
    "    if (row.ActionType==1 ):\n",
    "        row.Result=1\n",
    "    elif (row.ActionType==2 ):\n",
    "        row.Result=1\n",
    "    elif (row.ActionType==3 ):\n",
    "        row.Result=0\n",
    "    elif (row.ActionType==4 ):\n",
    "        row.Result=np.NAN        \n",
    "    elif (row.ActionType==5 ):\n",
    "        row.Result=np.NAN\n",
    "    elif (row.ActionType==6 ):\n",
    "        row.Result=1\n",
    "    elif (row.ActionType==7 ):\n",
    "        row.Result=0\n",
    "    elif (row.ActionType==8 ):\n",
    "        row.Result=1        \n",
    "    else:\n",
    "        row.Result=np.NAN\n",
    "    return row\n",
    "        "
   ]
  },
  {
   "cell_type": "raw",
   "metadata": {},
   "source": [
    "# filter out suspened, cancleed and live projects\n",
    "#Type of Action Taken* (1,2,6,8)** approved (3,7)**denied (4,5)*****incomplpete\n",
    "#df_approve = df_selectdata[(df_selectdata.ActionType==1) | (df_selectdata.ActionType==2) |(df_selectdata.ActionType==6) | (df_selectdata.ActionType==8)]\n",
    "#df_deny=df_selectdata[(df_selectdata.ActionType==3) | (df_selectdata.ActionType==7)]\n",
    "#df_selectdata[(df_selectdata.ActionType==1) | (df_selectdata.ActionType==2) |(df_selectdata.ActionType==6) | (df_selectdata.ActionType==8)]['Result']=1\n",
    "#df_selectdata[(df_selectdata.ActionType==3) | (df_selectdata.ActionType==7)]['Result']=0\n",
    "#df_selectdata['Result']=np.NAN\n",
    "df_selectdata1=df_selectdata.apply(createResultCol,axis=1)\n",
    "\n"
   ]
  },
  {
   "cell_type": "code",
   "execution_count": 5,
   "metadata": {},
   "outputs": [
    {
     "data": {
      "text/plain": [
       "array([0, 1], dtype=int64)"
      ]
     },
     "execution_count": 5,
     "metadata": {},
     "output_type": "execute_result"
    }
   ],
   "source": [
    "df_selectdata.Result.unique()"
   ]
  },
  {
   "cell_type": "raw",
   "metadata": {},
   "source": [
    "#df_selecteddata.info()\n",
    "picklefilename='df_selectdata_hmda_cenus.sa'\n",
    "# get the pickle file name to re confirm the previous files are not overriden.\n",
    "# Note: Run this file after confimring succesful completion of all above steps\n",
    "print(picklefilename)\n",
    "# create pickle file for further use \n",
    "pickle.dump(df_selectdata1,open(picklefilename,'wb'), protocol=4)"
   ]
  },
  {
   "cell_type": "markdown",
   "metadata": {
    "collapsed": true
   },
   "source": [
    "##  Analysis start"
   ]
  },
  {
   "cell_type": "markdown",
   "metadata": {
    "collapsed": true
   },
   "source": [
    "<div class=\"span5 alert alert-info\">\n",
    "<h4>\n",
    "Exploration 1 :Action Type for approve and and rejected loans</h4>\n",
    "</div>"
   ]
  },
  {
   "cell_type": "code",
   "execution_count": 6,
   "metadata": {},
   "outputs": [],
   "source": [
    "analyzecol='Result'\n",
    "dfHypo=df_selectdata[df_selectdata.ApplicantSex<=2].loc[:,['ApplicantSex',analyzecol]]"
   ]
  },
  {
   "cell_type": "code",
   "execution_count": 7,
   "metadata": {},
   "outputs": [
    {
     "data": {
      "text/plain": [
       "16080586"
      ]
     },
     "execution_count": 7,
     "metadata": {},
     "output_type": "execute_result"
    }
   ],
   "source": [
    "# number of approve for male\n",
    "sum(dfHypo[dfHypo.ApplicantSex==1].Result)"
   ]
  },
  {
   "cell_type": "code",
   "execution_count": 8,
   "metadata": {},
   "outputs": [
    {
     "data": {
      "text/plain": [
       "6843921"
      ]
     },
     "execution_count": 8,
     "metadata": {},
     "output_type": "execute_result"
    }
   ],
   "source": [
    "# number of approve for female\n",
    "sum(dfHypo[dfHypo.ApplicantSex==2].Result)"
   ]
  },
  {
   "cell_type": "code",
   "execution_count": 9,
   "metadata": {},
   "outputs": [
    {
     "name": "stdout",
     "output_type": "stream",
     "text": [
      "<class 'pandas.core.frame.DataFrame'>\n",
      "Int64Index: 28794250 entries, 0 to 49681\n",
      "Data columns (total 2 columns):\n",
      "ApplicantSex    float64\n",
      "Result          int64\n",
      "dtypes: float64(1), int64(1)\n",
      "memory usage: 659.0 MB\n"
     ]
    }
   ],
   "source": [
    "dfHypo.info()"
   ]
  },
  {
   "cell_type": "code",
   "execution_count": 10,
   "metadata": {},
   "outputs": [
    {
     "data": {
      "text/plain": [
       "array([1., 2.])"
      ]
     },
     "execution_count": 10,
     "metadata": {},
     "output_type": "execute_result"
    }
   ],
   "source": [
    "dfHypo.ApplicantSex.unique()"
   ]
  },
  {
   "cell_type": "code",
   "execution_count": 11,
   "metadata": {},
   "outputs": [
    {
     "data": {
      "text/html": [
       "<div>\n",
       "<style scoped>\n",
       "    .dataframe tbody tr th:only-of-type {\n",
       "        vertical-align: middle;\n",
       "    }\n",
       "\n",
       "    .dataframe tbody tr th {\n",
       "        vertical-align: top;\n",
       "    }\n",
       "\n",
       "    .dataframe thead th {\n",
       "        text-align: right;\n",
       "    }\n",
       "</style>\n",
       "<table border=\"1\" class=\"dataframe\">\n",
       "  <thead>\n",
       "    <tr style=\"text-align: right;\">\n",
       "      <th></th>\n",
       "      <th>ApplicantSex</th>\n",
       "      <th>Result</th>\n",
       "    </tr>\n",
       "  </thead>\n",
       "  <tbody>\n",
       "    <tr>\n",
       "      <th>count</th>\n",
       "      <td>2.879425e+07</td>\n",
       "      <td>2.879425e+07</td>\n",
       "    </tr>\n",
       "    <tr>\n",
       "      <th>mean</th>\n",
       "      <td>1.308363e+00</td>\n",
       "      <td>7.961488e-01</td>\n",
       "    </tr>\n",
       "    <tr>\n",
       "      <th>std</th>\n",
       "      <td>4.618173e-01</td>\n",
       "      <td>4.028597e-01</td>\n",
       "    </tr>\n",
       "    <tr>\n",
       "      <th>min</th>\n",
       "      <td>1.000000e+00</td>\n",
       "      <td>0.000000e+00</td>\n",
       "    </tr>\n",
       "    <tr>\n",
       "      <th>25%</th>\n",
       "      <td>1.000000e+00</td>\n",
       "      <td>1.000000e+00</td>\n",
       "    </tr>\n",
       "    <tr>\n",
       "      <th>50%</th>\n",
       "      <td>1.000000e+00</td>\n",
       "      <td>1.000000e+00</td>\n",
       "    </tr>\n",
       "    <tr>\n",
       "      <th>75%</th>\n",
       "      <td>2.000000e+00</td>\n",
       "      <td>1.000000e+00</td>\n",
       "    </tr>\n",
       "    <tr>\n",
       "      <th>max</th>\n",
       "      <td>2.000000e+00</td>\n",
       "      <td>1.000000e+00</td>\n",
       "    </tr>\n",
       "  </tbody>\n",
       "</table>\n",
       "</div>"
      ],
      "text/plain": [
       "       ApplicantSex        Result\n",
       "count  2.879425e+07  2.879425e+07\n",
       "mean   1.308363e+00  7.961488e-01\n",
       "std    4.618173e-01  4.028597e-01\n",
       "min    1.000000e+00  0.000000e+00\n",
       "25%    1.000000e+00  1.000000e+00\n",
       "50%    1.000000e+00  1.000000e+00\n",
       "75%    2.000000e+00  1.000000e+00\n",
       "max    2.000000e+00  1.000000e+00"
      ]
     },
     "execution_count": 11,
     "metadata": {},
     "output_type": "execute_result"
    }
   ],
   "source": [
    "dfHypo.describe()"
   ]
  },
  {
   "cell_type": "markdown",
   "metadata": {},
   "source": [
    "#### Get the dataframe"
   ]
  },
  {
   "cell_type": "code",
   "execution_count": 12,
   "metadata": {},
   "outputs": [],
   "source": [
    "dfHypo_male=dfHypo[dfHypo.ApplicantSex==1]\n",
    "dfHypo_female=dfHypo[dfHypo.ApplicantSex==2]"
   ]
  },
  {
   "cell_type": "code",
   "execution_count": 13,
   "metadata": {},
   "outputs": [
    {
     "data": {
      "text/plain": [
       "count    1.991517e+07\n",
       "mean     8.074540e-01\n",
       "std      3.942995e-01\n",
       "min      0.000000e+00\n",
       "25%      1.000000e+00\n",
       "50%      1.000000e+00\n",
       "75%      1.000000e+00\n",
       "max      1.000000e+00\n",
       "Name: Result, dtype: float64"
      ]
     },
     "execution_count": 13,
     "metadata": {},
     "output_type": "execute_result"
    }
   ],
   "source": [
    "dfHypo_male.Result.describe()"
   ]
  },
  {
   "cell_type": "code",
   "execution_count": 14,
   "metadata": {},
   "outputs": [
    {
     "data": {
      "text/plain": [
       "count    8.879076e+06\n",
       "mean     7.707920e-01\n",
       "std      4.203233e-01\n",
       "min      0.000000e+00\n",
       "25%      1.000000e+00\n",
       "50%      1.000000e+00\n",
       "75%      1.000000e+00\n",
       "max      1.000000e+00\n",
       "Name: Result, dtype: float64"
      ]
     },
     "execution_count": 14,
     "metadata": {},
     "output_type": "execute_result"
    }
   ],
   "source": [
    "dfHypo_female.Result.describe()"
   ]
  },
  {
   "cell_type": "code",
   "execution_count": 15,
   "metadata": {},
   "outputs": [
    {
     "data": {
      "text/plain": [
       "0.03666192609733088"
      ]
     },
     "execution_count": 15,
     "metadata": {},
     "output_type": "execute_result"
    }
   ],
   "source": [
    "mean_male_Result=dfHypo_male.Result.mean()\n",
    "mean_female_Result=dfHypo_female.Result.mean()\n",
    "mean_diff_Result=mean_male_Result-mean_female_Result\n",
    "mean_diff_Result\n"
   ]
  },
  {
   "cell_type": "markdown",
   "metadata": {},
   "source": [
    "<div class=\"span5 alert alert-info\" style=\"background-color:#ffff66; color:black\">\n",
    "\n",
    "There is difference between the mean of Result between male and female loans. We can further analyze this  hypothesis. <b>Answer :</b> The hypothesis are as follows\n",
    "    <br/>\n",
    "    <b> Null Hypothesis : </b> There is <b>no</b> difference in result in male or female approved loan. Which <i>means for result for men - means for result for female</i> equals <b>Zero</b> .\n",
    "    <br/>\n",
    "    <b> Alternate Hypothesis :  </b> There is <b>siginifcant</b> difference in result in male or female approved loan. Which <i>means for result for men - means for result for female</i> not equals <b>Zero</b> .\n",
    "</div>"
   ]
  },
  {
   "cell_type": "code",
   "execution_count": 17,
   "metadata": {},
   "outputs": [
    {
     "name": "stdout",
     "output_type": "stream",
     "text": [
      " The mean for calls for male candidate is 0.8074539544570386\n",
      " The standard deviation for calls for male candidate is 0.3942994720520549\n",
      " The varience for calls for male candidate is 0.1554720736605292\n",
      " The mean for calls for female candidate is 0.7707920283597077\n",
      " The standard deviation for calls for female candidate is 0.42032332468866307\n",
      " The varience for calls for female candidate is 0.17667169727733129\n"
     ]
    }
   ],
   "source": [
    "mean_male_calls, sd_male_calls, var_male_calls= dfHypo_male.Result.mean(), dfHypo_male.Result.std(), dfHypo_male.Result.var()\n",
    "mean_female_calls, sd_female_calls, var_female_calls= dfHypo_female.Result.mean(), dfHypo_female.Result.std(), dfHypo_female.Result.var()\n",
    "\n",
    "print (' The mean for calls for male candidate is ' + str(mean_male_calls))\n",
    "print (' The standard deviation for calls for male candidate is ' + str(sd_male_calls))\n",
    "print (' The varience for calls for male candidate is ' + str(var_male_calls))\n",
    "print (' The mean for calls for female candidate is ' + str(mean_female_calls))\n",
    "print (' The standard deviation for calls for female candidate is ' + str(sd_female_calls))\n",
    "print (' The varience for calls for female candidate is ' + str(var_female_calls))"
   ]
  },
  {
   "cell_type": "code",
   "execution_count": 18,
   "metadata": {},
   "outputs": [
    {
     "data": {
      "text/plain": [
       "0.03666192609733088"
      ]
     },
     "execution_count": 18,
     "metadata": {},
     "output_type": "execute_result"
    }
   ],
   "source": [
    "difference_population_mean =mean_male_calls-mean_female_calls\n",
    "difference_population_mean"
   ]
  },
  {
   "cell_type": "markdown",
   "metadata": {},
   "source": [
    "###  Variance for all calls based on bernoulli distribution is sum of  Variance (male) loans and Variance(female) loans"
   ]
  },
  {
   "cell_type": "code",
   "execution_count": 19,
   "metadata": {},
   "outputs": [
    {
     "name": "stdout",
     "output_type": "stream",
     "text": [
      "The total female with Result approved in population 6843921\n",
      "The total female in population 8879076\n",
      "The colored people Result /  total female 0.7707920283597077\n",
      "The total male with Result in population 16080586\n",
      "The total male in population 19915174\n",
      "The male Result / total male 0.8074539544570386\n",
      "The female variance 0.000000019898\n",
      "The male people variance 0.000000007807\n",
      "The total population varience 0.000000027704\n"
     ]
    }
   ],
   "source": [
    "# proporation calculation for colored people\n",
    "total_female=len(dfHypo_female)# total no of people of color\n",
    "female_got_approved=len(dfHypo_female[dfHypo_female.Result==1]) # female got Result 1\n",
    "proporation_female_approve=female_got_approved/total_female # population proporation of female who got Result 1\n",
    "print('The total female with Result approved in population '+str(female_got_approved))\n",
    "print('The total female in population '+str(total_female))\n",
    "print('The colored people Result /  total female '+str(proporation_female_approve))\n",
    "\n",
    "# proporation calculation for non colored people\n",
    "total_male=len(dfHypo_male)# total no of people of non color\n",
    "male_got_approved=len(dfHypo_male[dfHypo_male.Result==1])# male got Result 1\n",
    "proporation_male_approve=male_got_approved/total_male # population proporation of male who got Result 1\n",
    "print('The total male with Result in population '+str(male_got_approved))\n",
    "print('The total male in population '+str(total_male))\n",
    "print('The male Result / total male '+str(proporation_male_approve))\n",
    "\n",
    "# calculate variance of color people\n",
    "#P(1-p)/N\n",
    "variance_female=(proporation_female_approve*(1-proporation_female_approve))/total_female\n",
    "print('The female variance %.12f' % float(variance_female))\n",
    "\n",
    "# calculate variance of non color people\n",
    "variance_male=(proporation_male_approve*(1-proporation_male_approve))/total_male\n",
    "print('The male people variance %.12f' % float(variance_male))\n",
    "\n",
    "population_variance=variance_male+variance_female\n",
    "\n",
    "print('The total population varience %.12f' % (float(population_variance)))"
   ]
  },
  {
   "cell_type": "markdown",
   "metadata": {},
   "source": [
    "###  standard deviation for all calls square root of total varaience"
   ]
  },
  {
   "cell_type": "code",
   "execution_count": 20,
   "metadata": {},
   "outputs": [
    {
     "name": "stdout",
     "output_type": "stream",
     "text": [
      "The total population standard deviation 0.00016644591762137129\n"
     ]
    }
   ],
   "source": [
    "# standard devaiation for total population\n",
    "population_standard_deviation=math.sqrt(population_variance)\n",
    "print('The total population standard deviation '+str(population_standard_deviation))"
   ]
  },
  {
   "cell_type": "markdown",
   "metadata": {},
   "source": [
    "### 95 % chance which is critical value(1.96) that poupulaton mean (true mean) is within  difference of population  mean (0.032) will be Confidence interval"
   ]
  },
  {
   "cell_type": "code",
   "execution_count": 21,
   "metadata": {},
   "outputs": [
    {
     "name": "stdout",
     "output_type": "stream",
     "text": [
      "The confidence interval with 95 % 0.00032623399853788773\n"
     ]
    }
   ],
   "source": [
    "# 95 % chance for confidence interval \n",
    "conf_interval= critical_value*population_standard_deviation\n",
    "\n",
    "print('The confidence interval with 95 % '+str(conf_interval))"
   ]
  },
  {
   "cell_type": "code",
   "execution_count": 24,
   "metadata": {},
   "outputs": [
    {
     "data": {
      "text/plain": [
       "array([0.03633569, 0.03698816])"
      ]
     },
     "execution_count": 24,
     "metadata": {},
     "output_type": "execute_result"
    }
   ],
   "source": [
    "# margin of erro \n",
    "#population_standard_deviation-conf_interval , population_standard_deviation+conf_interval\n",
    "difference_population_mean+np.array([-1, 1]) * conf_interval"
   ]
  },
  {
   "cell_type": "markdown",
   "metadata": {},
   "source": [
    "### Based on null hypothesis, population proporation of women who got loan approved  -population proporation of male who got loan approved is zero. So difference_population_mean (0.032) away from 0 . We get z score for this \n",
    "#### To calculate the z score we need standard deviation with null hypothesis. And based on null hypothesis both proporation are equal and so proproartion of woman got loan equals pepole of men got loan"
   ]
  },
  {
   "cell_type": "code",
   "execution_count": null,
   "metadata": {},
   "outputs": [],
   "source": []
  },
  {
   "cell_type": "code",
   "execution_count": 25,
   "metadata": {},
   "outputs": [
    {
     "name": "stdout",
     "output_type": "stream",
     "text": [
      "0.011545673973341627\n"
     ]
    }
   ],
   "source": [
    "# null hypoths,p1=p2\n",
    "# z score for \n",
    "null_hypothese_proporation=(male_got_approved+female_got_approved)/(total_male+total_female)  #(157+235)/4870\n",
    "#new sd based on hypo= math.sqrt(2p*(1-p)/n)\n",
    "standard_deviation_z=math.sqrt((2*null_hypothese_proporation*(1-null_hypothese_proporation))/(2435))\n",
    "print(standard_deviation_z)"
   ]
  },
  {
   "cell_type": "code",
   "execution_count": 27,
   "metadata": {},
   "outputs": [
    {
     "name": "stdout",
     "output_type": "stream",
     "text": [
      "3.1753820679486875\n"
     ]
    }
   ],
   "source": [
    "#t=difference_population_mean-0/(new sd based on hypo)\n",
    "z_value = (difference_population_mean-0)/standard_deviation_z\n",
    "print (z_value)"
   ]
  },
  {
   "cell_type": "markdown",
   "metadata": {},
   "source": [
    "<div class=\"span5 alert alert-info\" style='background-color:#ffff66; color:black'><b>Answer :</b> The p- value for z number is   <b>0.0115456739733416274 </b></div>"
   ]
  },
  {
   "cell_type": "code",
   "execution_count": 28,
   "metadata": {},
   "outputs": [
    {
     "name": "stdout",
     "output_type": "stream",
     "text": [
      "The calculated z-score is higher than critical z value hence reject the null hypothesis\n"
     ]
    }
   ],
   "source": [
    "if (z_value>critical_value):\n",
    "    print ('The calculated z-score is higher than critical z value hence reject the null hypothesis')\n",
    "else:\n",
    "    print('Null hypotheses is true')"
   ]
  },
  {
   "cell_type": "markdown",
   "metadata": {},
   "source": [
    "<div class=\"span5 alert alert-info\" style='background-color:#ffff66; color:black'><b>Answer :</b> The calculated z-score is higher than critical z value hence will allow to <b>reject </b>the null hypothesis.</div>"
   ]
  },
  {
   "cell_type": "markdown",
   "metadata": {},
   "source": [
    "#### Calculate Z score and p score for this "
   ]
  },
  {
   "cell_type": "code",
   "execution_count": 29,
   "metadata": {},
   "outputs": [
    {
     "name": "stdout",
     "output_type": "stream",
     "text": [
      "The z stat is 225.7191608052462 and p value is 0.0\n"
     ]
    }
   ],
   "source": [
    "zstat, pvalue = wstats.ztest(dfHypo_male[analyzecol], dfHypo_female[analyzecol], alternative='two-sided',\n",
    "                    value=0, usevar='pooled', ddof=1.0)\n",
    "print ('The z stat is {} and p value is {}'.format(zstat,pvalue))"
   ]
  },
  {
   "cell_type": "code",
   "execution_count": 30,
   "metadata": {},
   "outputs": [
    {
     "name": "stdout",
     "output_type": "stream",
     "text": [
      "The z stat is 225.7191608052462 and p value is 0.0\n"
     ]
    }
   ],
   "source": [
    "zstat, pvalue = wstats.ztest(dfHypo_male[analyzecol], dfHypo_female[analyzecol], alternative='larger',#'smaller',\n",
    "                    value=0, usevar='pooled', ddof=1.0)\n",
    "print ('The z stat is {} and p value is {}'.format(zstat,pvalue))"
   ]
  },
  {
   "cell_type": "markdown",
   "metadata": {},
   "source": [
    "####  Calculate T score and p value to test same hypothesis"
   ]
  },
  {
   "cell_type": "code",
   "execution_count": 31,
   "metadata": {},
   "outputs": [
    {
     "name": "stdout",
     "output_type": "stream",
     "text": [
      "t-statistic:  220.26328358859774\n",
      "p-value:  0.0\n"
     ]
    }
   ],
   "source": [
    "# T-score\n",
    "tstat, p_from_t = stats.ttest_ind(dfHypo_male[analyzecol], dfHypo_female[analyzecol], equal_var=False)\n",
    "print('t-statistic: ', tstat)\n",
    "print('p-value: ', p_from_t)"
   ]
  },
  {
   "cell_type": "code",
   "execution_count": 32,
   "metadata": {},
   "outputs": [
    {
     "name": "stdout",
     "output_type": "stream",
     "text": [
      "The calulcated p value is lower then 0.05 % significant value will allow to reject the null hypothesis\n"
     ]
    }
   ],
   "source": [
    "if (p_from_t<siginificane_level):\n",
    "    print ('The calulcated p value is lower then 0.05 % significant value will allow to reject the null hypothesis')\n",
    "else:\n",
    "    print('Null hypotheses is true')"
   ]
  },
  {
   "cell_type": "markdown",
   "metadata": {},
   "source": [
    "<div class=\"span5 alert alert-info\" style='background-color:#ffff66; color:black'><b>Answer :</b> The calulcated p value is lower then 0.05 % significant value will allow to <b>reject </b>the null hypothesis.</div>"
   ]
  },
  {
   "cell_type": "markdown",
   "metadata": {},
   "source": [
    "<div class=\"span5 alert alert-info analysis\" >\n",
    "<h4>\n",
    "Conclusion : Exploration 1 :Gender for loan approve and rejection</h4>\n",
    "    <ul>\n",
    "     <li> There is enough evidence to reject Null hypothesis </li> \n",
    "     <li> The conculsion is that loan approval for male and female vaires </li> \n",
    "    </ul>\n",
    "</div>"
   ]
  },
  {
   "cell_type": "code",
   "execution_count": null,
   "metadata": {},
   "outputs": [],
   "source": []
  },
  {
   "cell_type": "code",
   "execution_count": null,
   "metadata": {},
   "outputs": [],
   "source": []
  }
 ],
 "metadata": {
  "kernelspec": {
   "display_name": "Python 3",
   "language": "python",
   "name": "python3"
  },
  "language_info": {
   "codemirror_mode": {
    "name": "ipython",
    "version": 3
   },
   "file_extension": ".py",
   "mimetype": "text/x-python",
   "name": "python",
   "nbconvert_exporter": "python",
   "pygments_lexer": "ipython3",
   "version": "3.6.5"
  }
 },
 "nbformat": 4,
 "nbformat_minor": 2
}
