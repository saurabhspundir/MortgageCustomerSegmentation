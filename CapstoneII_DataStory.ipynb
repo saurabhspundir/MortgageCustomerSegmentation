{
 "cells": [
  {
   "cell_type": "code",
   "execution_count": null,
   "metadata": {},
   "outputs": [],
   "source": [
    "import numpy as np\n",
    "import pandas as pd\n",
    "import os\n",
    "import os.path as opath\n",
    "# import ast\n",
    "# import json\n",
    "#from pandas.io.json import json_normalize\n",
    "import datetime\n",
    "import pickle\n",
    "import math\n",
    "\n",
    "# import matplotlib as plt\n",
    "# import matplotlib.pyplot as plt\n",
    "# import seaborn as sb\n",
    "import plotly \n",
    "import plotly.plotly as py\n",
    "import plotly.presentation_objs as pres\n",
    "from plotly.graph_objs import *\n",
    "#import plotly.graph_objs as go\n",
    "import plotly.offline as offline\n",
    "from plotly import tools\n",
    "from IPython.display import Image\n",
    "\n",
    "from IPython.core.display import HTML\n",
    "from IPython.core.interactiveshell import InteractiveShell\n",
    "InteractiveShell.ast_node_interactivity = \"all\"\n",
    "%matplotlib inline\n",
    "#plotly.tools.set_credentials_file(username='saurabhpundir', api_key='evTecysAK8CEVYBe6JUW',proxy_username='spundir', proxy_password='Cowboy@02')\n",
    "plotly.tools.set_credentials_file(username='saurabhpundir', api_key='evTecysAK8CEVYBe6JUW')"
   ]
  },
  {
   "cell_type": "markdown",
   "metadata": {},
   "source": [
    "<div class=\"span5 alert alert-info\">\n",
    "<h2>Note book details</h2>\n",
    "\n",
    "<p> This notebook is for <b>data story</b> for <b>Mortgage client segmentation</b> project.</p>\n",
    "\n",
    "<p> Notes.</p>\n",
    "<ol>\n",
    "<li>  The file will utlize the pickle file created in third part of for data wrangling</li> \n",
    "<li>  The file will perform exploratory analysis on the mortgage data with some </li> \n",
    "        \n",
    "</ol>\n",
    "</div>"
   ]
  },
  {
   "cell_type": "code",
   "execution_count": null,
   "metadata": {
    "scrolled": true
   },
   "outputs": [],
   "source": [
    "# from IPython.core.display import HTML\n",
    "css = open('style/style-table.css').read() + open('style/style-notebook.css').read()\n",
    "cssAnalysis = '.analysis {background:#5bffc0; }'\n",
    "HTML('<style>{} {}</style>'.format(css,cssAnalysis))\n",
    "pickle_file='df_selectdata_hmda_cenus.sa'\n",
    "\n",
    "colorApprove='rgb(50,205,50)'\n",
    "colorDeny='rgb(255,0,0)'\n",
    "colorOrange1='rgb(255, 112, 67)'#'rgb(255, 87, 34)'# 1\n",
    "colorBlue2='rgb(26, 4, 226)' # 2\n",
    "colorGreen3='rgb(76, 175, 80)'#3\n",
    "colorYellow4='rgb(255, 235, 59)' #4\n",
    "colorRed5='rgb(255,0,0)' #5\n",
    "colorGray='rgb(190,190,190)' # unknown\n",
    "colorPink='rgb(255,105,180)'"
   ]
  },
  {
   "cell_type": "code",
   "execution_count": null,
   "metadata": {},
   "outputs": [],
   "source": [
    "df_selectdata = pickle.load( open( pickle_file, \"rb\" ) )\n",
    "#df_alldata = pickle.load( open( 'df_alldata_hmda_cenus.sa', \"rb\" ) )\n",
    "#df_selectdata.info()"
   ]
  },
  {
   "cell_type": "code",
   "execution_count": null,
   "metadata": {},
   "outputs": [],
   "source": [
    "#df_selectdata[df_selectdata.StateName.isnull()]\n",
    "statelist=df_selectdata.StateName.unique()\n",
    "#statelist"
   ]
  },
  {
   "cell_type": "code",
   "execution_count": null,
   "metadata": {},
   "outputs": [],
   "source": [
    "### helper methods"
   ]
  },
  {
   "cell_type": "code",
   "execution_count": null,
   "metadata": {},
   "outputs": [],
   "source": [
    "def getCountForAmountRange(df,colname,min,max,grpbycol='ActionType',outputcol='Year'):\n",
    "    return pd.DataFrame(df[(df[colname]>min) & (df[colname]<=max)].groupby(grpbycol)[outputcol].count())\n",
    "    "
   ]
  },
  {
   "cell_type": "code",
   "execution_count": null,
   "metadata": {},
   "outputs": [],
   "source": [
    "def getDataFrameGrroupedbyCol(dfselect,colname):\n",
    "    dfgroup=dfselect.groupby([colname,'Result'], as_index=False)\n",
    "    dfgraph=dfgroup.count().loc[:,[colname,'Result','Year']]\n",
    "    dfgraph=dfgraph[dfgraph['Year'].isna()==False]\n",
    "    dfgraph['Count']=((dfgraph['Year']/1000.0)).apply(math.ceil)\n",
    "    #dfgraph_col=dfgraph_col.assign(Count=((dfgraph['Year']/1000.0)).apply(math.ceil))\n",
    "    return dfgraph\n",
    "    "
   ]
  },
  {
   "cell_type": "code",
   "execution_count": null,
   "metadata": {},
   "outputs": [],
   "source": [
    "def getlistbycolumnForResult(dfselect,colname,value,fulllist=False):\n",
    "    if ( type(value) == int):\n",
    "        dfgraph_col=dfselect[dfselect[colname]==value]\n",
    "    else:\n",
    "        dfgraph_col=dfselect[dfselect[colname].isin(value)]\n",
    "    #dfgraph_female=dfgraph[dfgraph.ApplicantSex==2]\n",
    "    dfgraph_col=dfgraph_col.assign(perc=((dfgraph_col['Count']/dfgraph_col['Count'].sum())*100))\n",
    "    templist=dfgraph_col.groupby('Result').sum().sort_values('Result').perc.tolist()\n",
    "\n",
    "    percListtext=list(map((lambda x:str(round(x))+'%'),templist))\n",
    "    if(fulllist):\n",
    "        percList=list(map((lambda x:round(x)),templist))\n",
    "    else:\n",
    "        percList=list(map((lambda x:round(x/2)),templist))\n",
    "        percList.insert(0, 50)\n",
    "        percListtext.insert(0, 0)\n",
    "\n",
    "    return percList,percListtext\n"
   ]
  },
  {
   "cell_type": "code",
   "execution_count": null,
   "metadata": {},
   "outputs": [],
   "source": [
    "def getlistofResultbycolumn(dfselect,value,fulllist=True):\n",
    "    if (type(value) == int):\n",
    "        dfgraph_col=dfselect[dfselect.Result==value]\n",
    "    else:\n",
    "        dfgraph_col=dfselect[dfselect.Result.isin(value)]\n",
    "    dfgraph_col=dfgraph_col.assign(perc=((dfgraph_col['Count']/dfgraph_col['Count'].sum())*100))\n",
    "    #templist=dfgraph_col.groupby('Result').sum().sort_values('Result').perc.tolist()\n",
    "    templist=dfgraph_col.sort_values('Result').perc.tolist()\n",
    "\n",
    "    percListtext=list(map((lambda x:str(round(x))+'%'),templist))\n",
    "    if(fulllist):\n",
    "        percList=list(map((lambda x:round(x)),templist))\n",
    "    else:\n",
    "        percList=list(map((lambda x:round(x/2)),templist))\n",
    "        percList.insert(0, 50)\n",
    "        percListtext.insert(0, 0)\n",
    "\n",
    "    return percList,percListtext\n"
   ]
  },
  {
   "cell_type": "code",
   "execution_count": null,
   "metadata": {},
   "outputs": [],
   "source": [
    "def createofflineChart(fig,filenameval,image=False,displayonpage=False):\n",
    "    if(image):\n",
    "        offline.plot(fig, filename=filenameval,image='png',image_filename=filenameval,output_type='file')\n",
    "        #py.image.save_as(fig, filename=filenameval+'.png')\n",
    "        #Image(filenameval+'.png')\n",
    "    else:\n",
    "        offline.plot(fig, filename=filenameval+'.html')\n",
    "    if(displayonpage):\n",
    "        Image(filenameval+'.png')"
   ]
  },
  {
   "cell_type": "code",
   "execution_count": null,
   "metadata": {},
   "outputs": [],
   "source": [
    "def createbasemeterForDonut(domainval,inputPercList,inputPercListText,labellist):\n",
    "    base_chart = {\n",
    "        \"values\": [40, 10, 10, 10, 10, 10, 10],\n",
    "        \"labels\": [\"-\", \"0\", \"20\", \"40\", \"60\", \"80\", \"100\"],\n",
    "       'domain':domainval,\n",
    "        \"marker\": {\n",
    "            \"colors\": [\n",
    "                'rgb(255, 255, 255)',\n",
    "                'rgb(255, 255, 255)',\n",
    "                'rgb(255, 255, 255)',\n",
    "                'rgb(255, 255, 255)',\n",
    "                'rgb(255, 255, 255)',\n",
    "                'rgb(255, 255, 255)',\n",
    "                'rgb(255, 255, 255)'\n",
    "            ],\n",
    "            \"line\": {\n",
    "                \"width\": 1\n",
    "            }\n",
    "        },\n",
    "        \"name\": \"Gauge\",\n",
    "        \"hole\": .4,\n",
    "        \"type\": \"pie\",\n",
    "        \"direction\": \"clockwise\",\n",
    "        \"rotation\": 108,\n",
    "        \"showlegend\": False,\n",
    "        \"hoverinfo\": \"none\",\n",
    "        \"textinfo\": \"text\",\n",
    "        \"textposition\": \"outside\"\n",
    "    }\n",
    "    meter_chart = {\n",
    "        \"values\": inputPercList,\n",
    "        \"labels\":labellist,\n",
    "        \"text\":inputPercListText,\n",
    "        \"marker\": {\n",
    "            'colors': [\n",
    "                'rgb(255, 255, 255)',\n",
    "                colorDeny,\n",
    "                 colorApprove,\n",
    "            ]\n",
    "        },\n",
    "        \"domain\": domainval,\n",
    "        \"name\": \"Gauge\",\n",
    "        \"hole\": .3,\n",
    "        \"type\": \"pie\",\n",
    "        \"direction\": \"clockwise\",\n",
    "        \"rotation\": 90,\n",
    "        \"showlegend\": True,\n",
    "        \"textinfo\": \"text\",\n",
    "        \"textposition\": \"inside\",\n",
    "         \"hoverinfo\": \"none\",\n",
    "    }\n",
    "    # we don't want the boundary now\n",
    "    base_chart['marker']['line']['width'] = 0\n",
    "    \n",
    "    return base_chart,meter_chart\n"
   ]
  },
  {
   "cell_type": "code",
   "execution_count": null,
   "metadata": {},
   "outputs": [],
   "source": [
    "def createHalfDonut(title,inputPercList,inputPercListText,labellist):\n",
    "    base_chart,meter_chart=createbasemeterForDonut({\"x\": [0, .48]},inputPercList,inputPercListText,labellist)\n",
    "    layout = {\n",
    "        'title':title,\n",
    "        'xaxis': {\n",
    "            'showticklabels': False,\n",
    "            'showgrid': False,\n",
    "            'zeroline': False,\n",
    "        },\n",
    "        'yaxis': {\n",
    "            'showticklabels': False,\n",
    "            'showgrid': False,\n",
    "            'zeroline': False,\n",
    "        },\n",
    "        'shapes': [\n",
    "            {\n",
    "                'type': 'path',\n",
    "                'path': 'M 0.235 0.5 L 0.24 0.65 L 0.245 0.5 Z',\n",
    "                'fillcolor': 'rgba(44, 160, 101, 0.5)',\n",
    "                'line': {\n",
    "                    'width': 0.5\n",
    "                },\n",
    "                'xref': 'paper',\n",
    "                'yref': 'paper'\n",
    "            }\n",
    "        ],\n",
    "        'annotations': [\n",
    "            {\n",
    "                'xref': 'paper',\n",
    "                'yref': 'paper',\n",
    "                'x': 0.23,\n",
    "                'y': 0.45,\n",
    "                'text': '50',\n",
    "                'showarrow': False\n",
    "            }\n",
    "        ]\n",
    "    }\n",
    "    return base_chart, meter_chart,layout "
   ]
  },
  {
   "cell_type": "code",
   "execution_count": null,
   "metadata": {},
   "outputs": [],
   "source": [
    "def createThreeHalfDonut(title,inputPercList1,inputPercListText1,inputPercList2,inputPercListText2,\n",
    "                        inputPercList3,inputPercListText3,labellist,filenameval):\n",
    "   \n",
    "    inputPercListText1[0]=labellist[0]\n",
    "    inputPercListText2[0]=labellist[1]\n",
    "    inputPercListText3[0]=labellist[2]\n",
    "\n",
    "    \n",
    "    labels=[\"\",\"Denied\",\"Accepted\"]\n",
    "    domain1={'x':[0, 0.33], 'y':[0.66,1.0]}# for the cell (1,1)\n",
    "    domain2={'x':[0.66, 1], 'y':[0.66,1]}#cell (1,2)\n",
    "    domain3={'x':[0, 0.33], 'y':[0.33, 0.66]}#cell (2,1)\n",
    "\n",
    "    base_chart1,meter_chart1=createbasemeterForDonut(domain1,inputPercList1,inputPercListText1,labels)\n",
    "    base_chart2,meter_chart2=createbasemeterForDonut(domain2,inputPercList2,inputPercListText2,labels)\n",
    "    base_chart3,meter_chart3=createbasemeterForDonut(domain3,inputPercList3,inputPercListText3,labels)\n",
    "    \n",
    "    layout = {\n",
    "        'autosize':False,\n",
    "        'height' : 1000,\n",
    "        'width' : 900,\n",
    "        'title':title,\n",
    "        'xaxis': {\n",
    "            'showticklabels': False,\n",
    "            'showgrid': False,\n",
    "            'zeroline': False,\n",
    "        },\n",
    "        'yaxis': {\n",
    "            'showticklabels': False,\n",
    "            'showgrid': False,\n",
    "            'zeroline': False,\n",
    "        }#,\n",
    "#         'shapes': [\n",
    "#             {\n",
    "#                 'type': 'path',\n",
    "#                 'path': 'M 0.235 0.5 L 0.24 0.65 L 0.245 0.5 Z',\n",
    "#                 'fillcolor': 'rgba(44, 160, 101, 0.5)',\n",
    "#                 'line': {\n",
    "#                     'width': 0.5\n",
    "#                 },\n",
    "#                 'xref': 'paper',\n",
    "#                 'yref': 'paper'\n",
    "#             }\n",
    "#         ],\n",
    "#         'annotations': [\n",
    "#             {\n",
    "#                 'xref': 'paper',\n",
    "#                 'yref': 'paper',\n",
    "#                 'x': 0.23,\n",
    "#                 'y': 0.45,\n",
    "#                 'text': '50',\n",
    "#                 'showarrow': False\n",
    "#             }\n",
    "#        ]\n",
    "    }\n",
    "#     fig = {\"data\": [base_chart1, base_chart2,base_chart3, base_chart4,\n",
    "#                     meter_chart1,meter_chart2, meter_chart3, meter_chart4],\n",
    "    fig = {\"data\": [\n",
    "                    meter_chart1,meter_chart2, meter_chart3],\n",
    "           \"layout\": layout }\n",
    "    createofflineChart(fig,filenameval)"
   ]
  },
  {
   "cell_type": "code",
   "execution_count": null,
   "metadata": {},
   "outputs": [],
   "source": [
    "def createFourHalfDonut(title,inputPercList1,inputPercListText1,inputPercList2,inputPercListText2,\n",
    "                        inputPercList3,inputPercListText3,inputPercList4,inputPercListText4,labellist,filenameval):\n",
    "    \n",
    "    labels=[\"\",\"Denied\",\"Accepted\"]\n",
    "    inputPercListText1[0]=labellist[0]\n",
    "    inputPercListText2[0]=labellist[1]\n",
    "    inputPercListText3[0]=labellist[2]\n",
    "    inputPercListText4[0]=labellist[3]\n",
    "    \n",
    "    domain1={'x': [0, .48],'y': [0, .49]}# for the cell (1,1)\n",
    "    domain2={'x': [.51, 1],'y': [0, .49]}#cell (1,2)\n",
    "    domain3={'x': [0, .48],'y': [.51, 1]}#cell (2,1)\n",
    "    domain4={'x': [.51, 1],'y': [.51, 1]}#cell (2,2)\n",
    "\n",
    "    base_chart1,meter_chart1=createbasemeterForDonut(domain1,inputPercList1,inputPercListText1,labels)\n",
    "    base_chart2,meter_chart2=createbasemeterForDonut(domain2,inputPercList2,inputPercListText2,labels)\n",
    "    base_chart3,meter_chart3=createbasemeterForDonut(domain3,inputPercList3,inputPercListText3,labels)\n",
    "    base_chart4,meter_chart4=createbasemeterForDonut(domain4,inputPercList4,inputPercListText4,labels)\n",
    "\n",
    "    layout = {\n",
    "        'title':title,\n",
    "        'xaxis': {\n",
    "            'showticklabels': False,\n",
    "            'showgrid': False,\n",
    "            'zeroline': False,\n",
    "        },\n",
    "        'yaxis': {\n",
    "            'showticklabels': False,\n",
    "            'showgrid': False,\n",
    "            'zeroline': False,\n",
    "        }#,\n",
    "#         'shapes': [\n",
    "#             {\n",
    "#                 'type': 'path',\n",
    "#                 'path': 'M 0.235 0.5 L 0.24 0.65 L 0.245 0.5 Z',\n",
    "#                 'fillcolor': 'rgba(44, 160, 101, 0.5)',\n",
    "#                 'line': {\n",
    "#                     'width': 0.5\n",
    "#                 },\n",
    "#                 'xref': 'paper',\n",
    "#                 'yref': 'paper'\n",
    "#             }\n",
    "#         ],\n",
    "#         'annotations': [\n",
    "#             {\n",
    "#                 'xref': 'paper',\n",
    "#                 'yref': 'paper',\n",
    "#                 'x': 0.23,\n",
    "#                 'y': 0.45,\n",
    "#                 'text': '50',\n",
    "#                 'showarrow': False\n",
    "#             }\n",
    "#        ]\n",
    "    }\n",
    "    fig = {\"data\": [\n",
    "                    meter_chart1,meter_chart2, meter_chart3, meter_chart4],\n",
    "           \"layout\": layout }\n",
    "    createofflineChart(fig,filenameval)"
   ]
  },
  {
   "cell_type": "code",
   "execution_count": null,
   "metadata": {},
   "outputs": [],
   "source": [
    "def createSixHalfDonut(title,inputPercList1,inputPercListText1,inputPercList2,inputPercListText2,\n",
    "                        inputPercList3,inputPercListText3,inputPercList4,inputPercListText4,inputPercList5,\n",
    "                       inputPercListText5,inputPercList6,inputPercListText6,labellist,filenameval):\n",
    "   \n",
    "    inputPercListText1[0]=labellist[0]\n",
    "    inputPercListText2[0]=labellist[1]\n",
    "    inputPercListText3[0]=labellist[2]\n",
    "    inputPercListText4[0]=labellist[3]\n",
    "    inputPercListText5[0]=labellist[4]\n",
    "    inputPercListText6[0]=labellist[5]\n",
    "    \n",
    "    labels=[\"\",\"Denied\",\"Accepted\"]\n",
    "    domain1={'x':[0, 0.33], 'y':[0.66,1.0]}# for the cell (1,1)\n",
    "    domain2={'x':[0.66, 1], 'y':[0.66,1]}#cell (1,2)\n",
    "    domain3={'x':[0, 0.33], 'y':[0.33, 0.66]}#cell (2,1)\n",
    "    domain4={'x':[0.66, 1], 'y':[0.33, 0.66]}#cell (2,2)\n",
    "    domain5={'x':[0, 0.33], 'y':[0,0.33]}#cell (3,1)\n",
    "    domain6={'x': [0.66, 1], 'y':[0,0.33]}#cell (3,1)\n",
    "\n",
    "#     domain1={'x': [0, .48],'y': [0, .32]}# for the cell (1,1)\n",
    "#     domain2={'x': [.52, 1],'y': [0, .32]}#cell (1,2)\n",
    "#     domain3={'x': [0, .48],'y': [.34, .65]}#cell (2,1)\n",
    "#     domain4={'x': [.52, 1],'y': [.34, .65]}#cell (2,2)\n",
    "#     domain5={'x': [0, .48],'y': [.67, 1]}#cell (3,1)\n",
    "#     domain6={'x': [.52, 1],'y': [.67, 1]}#cell (3,1)\n",
    "\n",
    "    #domain1={'x': [0, .48],'y': [0, .32]}\n",
    "    base_chart1,meter_chart1=createbasemeterForDonut(domain1,inputPercList1,inputPercListText1,labels)\n",
    "    #print(inputPercListText1[0])\n",
    "    #domain2={'x': [.52, 1],'y': [0, .32]}\n",
    "    base_chart2,meter_chart2=createbasemeterForDonut(domain2,inputPercList2,inputPercListText2,labels)\n",
    "    #print(inputPercListText2[0])\n",
    "    #domain3={'x': [0, .48],'y': [.34, .65]}\n",
    "    base_chart3,meter_chart3=createbasemeterForDonut(domain3,inputPercList3,inputPercListText3,labels)\n",
    "    #print(inputPercListText3[0])\n",
    "    #domain4={'x': [.52, 1],'y': [.34, .65]}\n",
    "    base_chart4,meter_chart4=createbasemeterForDonut(domain4,inputPercList4,inputPercListText4,labels)\n",
    "    #print(inputPercListText4[0])\n",
    "    #domain5={'x': [0, .48],'y': [.67, 1]}\n",
    "    base_chart5,meter_chart5=createbasemeterForDonut(domain5,inputPercList5,inputPercListText5,labels)\n",
    "    #print(inputPercListText5[0])\n",
    "    #domain6={'x': [.52, 1],'y': [.67, 1]}\n",
    "    base_chart6,meter_chart6=createbasemeterForDonut(domain6,inputPercList6,inputPercListText6,labels)\n",
    "#     print(inputPercListText6[0])\n",
    "\n",
    "#     fig = tools.make_subplots(rows=3, cols=2, subplot_titles=('Plot 1', 'Plot 2',\n",
    "#                                                           'Plot 3', 'Plot 4', 'Plot 5', 'Plot 6'))\n",
    "    \n",
    "#     fig.append_trace(meter_chart1, 1, 1)\n",
    "#     fig.append_trace(meter_chart2, 1, 2)\n",
    "#     fig.append_trace(meter_chart3, 2, 1)\n",
    "#     fig.append_trace(meter_chart4, 2, 2)\n",
    "#     fig.append_trace(meter_chart3, 3, 1)\n",
    "#     fig.append_trace(meter_chart4, 3, 2)\n",
    "    \n",
    "    layout = {\n",
    "        'autosize':False,\n",
    "        'height' : 1000,\n",
    "        'width' : 900,\n",
    "        'title':title,\n",
    "        'xaxis': {\n",
    "            'showticklabels': False,\n",
    "            'showgrid': False,\n",
    "            'zeroline': False,\n",
    "        },\n",
    "        'yaxis': {\n",
    "            'showticklabels': False,\n",
    "            'showgrid': False,\n",
    "            'zeroline': False,\n",
    "        }#,\n",
    "#         'shapes': [\n",
    "#             {\n",
    "#                 'type': 'path',\n",
    "#                 'path': 'M 0.235 0.5 L 0.24 0.65 L 0.245 0.5 Z',\n",
    "#                 'fillcolor': 'rgba(44, 160, 101, 0.5)',\n",
    "#                 'line': {\n",
    "#                     'width': 0.5\n",
    "#                 },\n",
    "#                 'xref': 'paper',\n",
    "#                 'yref': 'paper'\n",
    "#             }\n",
    "#         ],\n",
    "#         'annotations': [\n",
    "#             {\n",
    "#                 'xref': 'paper',\n",
    "#                 'yref': 'paper',\n",
    "#                 'x': 0.23,\n",
    "#                 'y': 0.45,\n",
    "#                 'text': '50',\n",
    "#                 'showarrow': False\n",
    "#             }\n",
    "#        ]\n",
    "    }\n",
    "#     fig = {\"data\": [base_chart1, base_chart2,base_chart3, base_chart4,\n",
    "#                     meter_chart1,meter_chart2, meter_chart3, meter_chart4],\n",
    "    fig = {\"data\": [\n",
    "                    meter_chart1,meter_chart2, meter_chart3, meter_chart4, meter_chart5, meter_chart6],\n",
    "           \"layout\": layout }\n",
    "    #fig = {\"data\": [meter_chart1, meter_chart2, meter_chart3, meter_chart4]}\n",
    "    #py.iplot(fig, filename='gauge-meter-chart-Male-State')\n",
    "    #offline.plot(fig, filename=filenameval)\n",
    "    createofflineChart(fig,filenameval)\n",
    "   \n",
    "    #return base_chart, meter_chart,layout "
   ]
  },
  {
   "cell_type": "code",
   "execution_count": null,
   "metadata": {},
   "outputs": [],
   "source": [
    "# graph for 0-1101\n",
    "# graph for 1101-5101\n",
    "# graph for 5101-99999\n",
    "\n",
    "def drawIncomegraphonRange(df,title,start, end):\n",
    "    #start=0 \n",
    "    #end=1101    \n",
    "    dfgraph=df[(np.int64(df.start)>=np.int64(start))& (np.int64(df.end)<=np.int64(end))].sort_values(by=['start'])\n",
    "    #dfgraph=df_income_range[(np.int64(df_income_range.start)>np.int64(start)]\n",
    "    #dfgraph=df_income_range[(np.int64(df_income_range.start)>np.int64(start))]                         \n",
    "    #dfgraph=df_income_range[(np.int64(df_income_range.end)<=np.int64(end))].sort_values(by=['start'])\n",
    "    \n",
    "    traceApprove =graph_objs.Bar( \n",
    "      x= dfgraph[dfgraph['ActionType']==1].range, \n",
    "      y= dfgraph[dfgraph['ActionType']==1].value, \n",
    "      name= \"Loan originated(Approved)\",\n",
    "          #orientation = 'h',\n",
    "    marker=dict(\n",
    "            color='rgb(50,205,50)',\n",
    "            line=dict(\n",
    "                color='rgb(34,139,34)',\n",
    "                width=1.5,\n",
    "            )\n",
    "        ),\n",
    "        opacity=0.6,\n",
    "\n",
    "    )\n",
    "    \n",
    "    traceNotAccepted = graph_objs.Bar(\n",
    "      x= dfgraph[dfgraph['ActionType']==2].range, \n",
    "      y= dfgraph[dfgraph['ActionType']==2].value,\n",
    "      name= \"Application approved but not accepted\", \n",
    "          #orientation = 'h',\n",
    "    marker=dict(\n",
    "            color='rgb(255,255,0)',\n",
    "            line=dict(\n",
    "                color='rgb(255,255,0)',\n",
    "                width=1.5,\n",
    "            )\n",
    "        ),\n",
    "        opacity=0.6\n",
    "    )\n",
    "    traceDenied = graph_objs.Bar(\n",
    "      x= dfgraph[dfgraph['ActionType']==3].range, \n",
    "      y= dfgraph[dfgraph['ActionType']==3].value,\n",
    "      name= \"Application denied by financial institution\", \n",
    "          #orientation = 'h',\n",
    "    marker=dict(\n",
    "            color='rgb(255,0,16)',\n",
    "            line=dict(\n",
    "                color='rgb(255,0,16)',\n",
    "                width=1.5,\n",
    "            )\n",
    "        ),\n",
    "        opacity=0.6\n",
    "    )\n",
    "    tracePurchased = graph_objs.Bar(\n",
    "      x= dfgraph[dfgraph['ActionType']==6].range, \n",
    "      y= dfgraph[dfgraph['ActionType']==6].value,\n",
    "      name= \"Loan purchased by your institution\", \n",
    "          #orientation = 'h',\n",
    "    marker=dict(\n",
    "            color='rgb(190,190,190)',\n",
    "            line=dict(\n",
    "                color='rgb(119,136,153)',\n",
    "                width=1.5,\n",
    "            )\n",
    "        ),\n",
    "        opacity=0.6\n",
    "    )\n",
    "    tracePreapproveDenied = graph_objs.Bar(\n",
    "      x= dfgraph[dfgraph['ActionType']==7].range, \n",
    "      y= dfgraph[dfgraph['ActionType']==7].value,\n",
    "      name= \"Preapproval request denied by financial institution\", \n",
    "          #orientation = 'h',\n",
    "    marker=dict(\n",
    "            color='rgb(121, 0, 0)',\n",
    "            line=dict(\n",
    "                color='rgb(121, 0, 0)',\n",
    "                width=1.5,\n",
    "            )\n",
    "        ),\n",
    "        opacity=0.6\n",
    "    )\n",
    "    tracePreapproveNotAccepted = graph_objs.Bar(\n",
    "      x= dfgraph[dfgraph['ActionType']==8].range, \n",
    "      y= dfgraph[dfgraph['ActionType']==8].value,\n",
    "      name= \"Preapproval request approved but not accepted\", \n",
    "          #orientation = 'h',\n",
    "    marker=dict(\n",
    "            color='rgb(135,206,250)',\n",
    "            line=dict(\n",
    "                color='rgb(135,206,250)',\n",
    "                width=1.5,\n",
    "            )\n",
    "        ),\n",
    "        opacity=0.6\n",
    "    )\n",
    "    data = Data([traceApprove,traceNotAccepted,traceDenied,tracePurchased, tracePreapproveDenied,tracePreapproveNotAccepted])\n",
    "\n",
    "\n",
    "    layout = graph_objs.Layout(\n",
    "        title=title,\n",
    "        width=1050,\n",
    "        height=950,\n",
    "        yaxis=dict(\n",
    "            tickfont=dict(\n",
    "                size=10,\n",
    "                color='rgb(107, 107, 107)'\n",
    "            )\n",
    "        ),\n",
    "        xaxis=dict(\n",
    "            title='Amount in (000)',\n",
    "            titlefont=dict(\n",
    "                size=16,\n",
    "                color='rgb(107, 107, 107)'\n",
    "            ),\n",
    "            tickfont=dict(\n",
    "                size=14,\n",
    "                color='rgb(107, 107, 107)'\n",
    "            )\n",
    "\n",
    "        ),\n",
    "    #    legend=dict(\n",
    "    #        x=0,\n",
    "    #        y=1.0,\n",
    "    #        bgcolor='rgba(255, 255, 255, 0)',\n",
    "    #        bordercolor='rgba(255, 255, 255, 0)'\n",
    "    #    ),\n",
    "        barmode='group',\n",
    "        bargap=1.15,\n",
    "        bargroupgap=1.55\n",
    "    )\n",
    "    #print((traceApprove.y.sum()))\n",
    "    return data,layout,dfgraph \n",
    "\n",
    "#fig = Figure(data=data, layout=layout)\n",
    "#return fig\n",
    "#py.iplot(fig, filename='grouped-bar-state-salary')"
   ]
  },
  {
   "cell_type": "code",
   "execution_count": null,
   "metadata": {},
   "outputs": [],
   "source": [
    "def createHalfGuagechart(base_chart, meter_chart,layout,filenameval):\n",
    "    fig = {\"data\": [base_chart, meter_chart],\n",
    "       \"layout\": layout }\n",
    "    #py.iplot(fig, filename='gauge-meter-chart-Male-State')\n",
    "    #offline.plot(fig, filename=filenameval)\n",
    "    createofflineChart(fig,filenameval)"
   ]
  },
  {
   "cell_type": "code",
   "execution_count": null,
   "metadata": {},
   "outputs": [],
   "source": [
    "def createPiChartForThreeValues(valuesfirst,valuessecond,valuethird,labels,title,filename,namefirst,namesecond,namethird):\n",
    "    fig = {\n",
    "      \"data\": [\n",
    "        {\n",
    "          \"values\": valuesfirst,\n",
    "          \"labels\":labels, \n",
    "          \"text\":[namefirst],\n",
    "          \"textposition\":\"inside\",\n",
    "          \"domain\": {\"x\": [0, .33]},\n",
    "          \"name\": namefirst,#\"GHG Emissions\",\n",
    "          \"hoverinfo\":\"label+percent+name\",\n",
    "          \"hole\": .4,\n",
    "          \"type\": \"pie\"\n",
    "        },\n",
    "        {\n",
    "          \"values\": valuessecond,\n",
    "          \"labels\": labels,\n",
    "          \"text\":[namesecond],\n",
    "          \"textposition\":\"inside\",\n",
    "          \"domain\": {\"x\": [.35, 0.64]},\n",
    "          \"name\": namesecond,\n",
    "          \"hoverinfo\":\"label+percent+name\",\n",
    "          \"hole\": .4,\n",
    "          \"type\": \"pie\"\n",
    "        },\n",
    "          {\n",
    "          \"values\": valuessecondthird,\n",
    "          \"labels\": labels,\n",
    "          \"text\":[namethird],\n",
    "          \"textposition\":\"inside\",\n",
    "          'domain': {'x': [0.67, 1]},\n",
    "          \"name\": namethird,\n",
    "          \"hoverinfo\":\"label+percent+name\",\n",
    "          \"hole\": .4,\n",
    "          \"type\": \"pie\"\n",
    "        }\n",
    "      ],\n",
    "      \"layout\": {\n",
    "            \"title\":title,\n",
    "            \"annotations\": [\n",
    "                {\n",
    "                    \"font\": {\n",
    "                        \"size\": 20\n",
    "                    },\n",
    "                    \"showarrow\": False,\n",
    "                    \"text\": namefirst,\n",
    "                    \"x\": 0.15,\n",
    "                    \"y\": 0.5\n",
    "                },\n",
    "                {\n",
    "                    \"font\": {\n",
    "                        \"size\": 20\n",
    "                    },\n",
    "                    \"showarrow\": False,\n",
    "                    \"text\": namesecond,\n",
    "                    \"x\": 0.65,\n",
    "                    \"y\": 0.5\n",
    "                },\n",
    "                {\n",
    "                    \"font\": {\n",
    "                        \"size\": 20\n",
    "                    },\n",
    "                    \"showarrow\": False,\n",
    "                    \"text\": namethird,\n",
    "                    \"x\": 0.9,\n",
    "                    \"y\": 0.5\n",
    "                }\n",
    "            ]\n",
    "        }\n",
    "    }\n",
    "    return fig\n",
    "    #return py.iplot(fig, filename='donut')"
   ]
  },
  {
   "cell_type": "code",
   "execution_count": null,
   "metadata": {},
   "outputs": [],
   "source": [
    "def createPiChartFortwoValues(valuesfirst,valuessecond,labels,title,filename,namefirst,namesecond):\n",
    "    fig = {\n",
    "      \"data\": [\n",
    "        {\n",
    "          \"values\": valuesfirst,#[16, 15, 12, 6, 5, 4, 42],\n",
    "          \"labels\":labels, #[\n",
    "#             \"US\",\n",
    "#             \"China\",\n",
    "#             \"European Union\",\n",
    "#             \"Russian Federation\",\n",
    "#             \"Brazil\",\n",
    "#             \"India\",\n",
    "#             \"Rest of World\"\n",
    "#           ],\n",
    "          \"text\":[namefirst],\n",
    "          \"textposition\":\"inside\",\n",
    "          \"domain\": {\"x\": [0, .48]},\n",
    "          \"name\": namefirst,#\"GHG Emissions\",\n",
    "          \"hoverinfo\":\"label+percent+name\",\n",
    "          \"hole\": .4,\n",
    "          \"type\": \"pie\"\n",
    "        },\n",
    "        {\n",
    "          \"values\": valuessecond,\n",
    "          \"labels\": labels,\n",
    "          \"text\":[namesecond],\n",
    "          \"textposition\":\"inside\",\n",
    "          \"domain\": {\"x\": [.52, 1]},\n",
    "          \"name\": namesecond,\n",
    "          \"hoverinfo\":\"label+percent+name\",\n",
    "          \"hole\": .4,\n",
    "          \"type\": \"pie\"\n",
    "        }\n",
    "      ],\n",
    "      \"layout\": {\n",
    "            \"title\":title,\n",
    "            \"annotations\": [\n",
    "                {\n",
    "                    \"font\": {\n",
    "                        \"size\": 20\n",
    "                    },\n",
    "                    \"showarrow\": False,\n",
    "                    \"text\": namefirst,\n",
    "                    \"x\": 0.20,\n",
    "                    \"y\": 0.5\n",
    "                },\n",
    "                {\n",
    "                    \"font\": {\n",
    "                        \"size\": 20\n",
    "                    },\n",
    "                    \"showarrow\": False,\n",
    "                    \"text\": namesecond,\n",
    "                    \"x\": 0.8,\n",
    "                    \"y\": 0.5\n",
    "                }\n",
    "            ]\n",
    "        }\n",
    "    }\n",
    "    return fig\n",
    "    #py.iplot(fig, filename='donut')"
   ]
  },
  {
   "cell_type": "code",
   "execution_count": null,
   "metadata": {},
   "outputs": [],
   "source": [
    "def getDataFrameGroupByColForState(dfselect,colname,divisor=1000.0):\n",
    "    dfgroup=df_selectdata.groupby([colname,'StateName'], as_index=False)\n",
    "    dfgraph=dfgroup.count().loc[:,[colname,'StateName','Year']]\n",
    "    dfgraph=dfgraph[dfgraph['Year'].isna()==False]\n",
    "    dfgraph['Count']=((dfgraph['Year']/divisor)).apply(math.ceil)  \n",
    "    return dfgraph"
   ]
  },
  {
   "cell_type": "code",
   "execution_count": null,
   "metadata": {},
   "outputs": [],
   "source": [
    "def getbarForColumnForStateGraph(name,yaxis,color):\n",
    "    trace =graph_objs.Bar( \n",
    "      y= yaxis,#dfgraph[dfgraph['ApplicantSex']==2]['Count'], \n",
    "      x= statelist, \n",
    "      name= name,\n",
    "    marker=dict(\n",
    "            color=color,\n",
    "            line=dict(\n",
    "                color=color,\n",
    "                width=1.5,\n",
    "            )\n",
    "        ),\n",
    "        opacity=0.6\n",
    "    )\n",
    "    return trace\n",
    "    "
   ]
  },
  {
   "cell_type": "markdown",
   "metadata": {},
   "source": [
    "## us map graph"
   ]
  },
  {
   "cell_type": "code",
   "execution_count": null,
   "metadata": {},
   "outputs": [],
   "source": [
    "dfgroup=df_selectdata.groupby('StateName', as_index=False)\n",
    "dfgraph=dfgroup.count().loc[:,['StateName','Year']]\n",
    "dfgraph['LoanAmount']=dfgroup.sum()['LoanAmount']#.loc[:,['LoanAmount','Year']]\n",
    "dfgraph['LoanAmount'] =((dfgraph['LoanAmount']/1000000.0)).apply(math.ceil)"
   ]
  },
  {
   "cell_type": "code",
   "execution_count": null,
   "metadata": {},
   "outputs": [],
   "source": [
    "scl = [[0.0, 'rgb(242,240,247)'],[0.2, 'rgb(218,218,235)'],[0.4, 'rgb(188,189,220)'],\\\n",
    "            [0.6, 'rgb(158,154,200)'],[0.8, 'rgb(117,107,177)'],[1.0, 'rgb(84,39,143)']]\n",
    "\n",
    "for col in dfgraph.columns:\n",
    "    dfgraph[col] = dfgraph[col].astype(str)\n",
    "    \n",
    "dfgraph['text'] = dfgraph['StateName'] + '<br>' +\\\n",
    "    'LoanAmount '+dfgraph['LoanAmount']+' USD<br>'+\\\n",
    "    'No of Applicant '+dfgraph['Year']\n",
    "\n",
    "data = [ dict(\n",
    "        type='choropleth',\n",
    "        colorscale = scl,\n",
    "        autocolorscale = False,\n",
    "        locations = dfgraph['StateName'],\n",
    "        z = dfgraph['LoanAmount'].astype(float),\n",
    "        locationmode = 'USA-states',\n",
    "        text = dfgraph['text'],\n",
    "        marker = dict(\n",
    "            line = dict (\n",
    "                color = 'rgb(255,255,255)',\n",
    "                width = 2\n",
    "            ) ),\n",
    "        colorbar = dict(\n",
    "            title = \"Millions USD\")\n",
    "        ) ]\n",
    "\n",
    "layout = dict(\n",
    "        title = 'Loan Application by State<br>(Hover for breakdown)',\n",
    "        geo = dict(\n",
    "            scope='usa',\n",
    "            projection=dict( type='albers usa' ),\n",
    "            showlakes = True,\n",
    "            lakecolor = 'rgb(255, 255, 255)'),\n",
    "             )\n",
    "    \n",
    "fig = dict( data=data, layout=layout )\n",
    "#py.iplot( fig, filename='d3-cloropleth-loan' )\n",
    "createofflineChart(fig,'USMap-cloropleth-loan')"
   ]
  },
  {
   "cell_type": "markdown",
   "metadata": {},
   "source": [
    "### bar graph for state and action for each field"
   ]
  },
  {
   "cell_type": "markdown",
   "metadata": {},
   "source": [
    "#### Gender state scatter plot"
   ]
  },
  {
   "cell_type": "code",
   "execution_count": null,
   "metadata": {},
   "outputs": [],
   "source": [
    "def getbargraphforstate(data,title,filename,barmode='group',width=950):\n",
    "    \n",
    "    #data = Data([traceFemale, traceMale,traceUnknown])\n",
    "\n",
    "    layout = graph_objs.Layout(\n",
    "        title=title,\n",
    "        width=width,\n",
    "        xaxis=dict(\n",
    "            tickfont=dict(\n",
    "                size=10,\n",
    "                color='rgb(107, 107, 107)'\n",
    "            )\n",
    "        ),\n",
    "        yaxis=dict(\n",
    "            title='Counts in(1000)',\n",
    "            titlefont=dict(\n",
    "                size=16,\n",
    "                color='rgb(107, 107, 107)'\n",
    "            ),\n",
    "            tickfont=dict(\n",
    "                size=14,\n",
    "                color='rgb(107, 107, 107)'\n",
    "            )\n",
    "        ),\n",
    "    #    legend=dict(\n",
    "    #        x=0,\n",
    "    #        y=1.0,\n",
    "    #        bgcolor='rgba(255, 255, 255, 0)',\n",
    "    #        bordercolor='rgba(255, 255, 255, 0)'\n",
    "    #    ),\n",
    "        barmode=barmode,\n",
    "        bargap=0.15,\n",
    "        bargroupgap=0.2\n",
    "    )\n",
    "\n",
    "\n",
    "    fig = Figure(data=data, layout=layout)\n",
    "    #py.iplot(fig, filename='grouped-bar-gender')\n",
    "    createofflineChart(fig,filename)    "
   ]
  },
  {
   "cell_type": "markdown",
   "metadata": {},
   "source": [
    "#### Gender bar graph"
   ]
  },
  {
   "cell_type": "code",
   "execution_count": null,
   "metadata": {},
   "outputs": [],
   "source": [
    "colname='ApplicantSex'\n",
    "dfgraph=getDataFrameGroupByColForState(df_selectdata,colname)"
   ]
  },
  {
   "cell_type": "code",
   "execution_count": null,
   "metadata": {},
   "outputs": [],
   "source": [
    "title='Loan counts for gender for all US state'\n",
    "#labels=['American Indian or Alaska Native','Asian','Black or African American','Native Hawaiian or Other Pacific Islander','White','Information not provided ','Not applicable']\n",
    "labels=['Men','Women','Unknown']\n",
    "filename='bar-chart-gender-State'\n",
    "\n",
    "traceMale=getbarForColumnForStateGraph(labels[0],dfgraph[dfgraph[colname]==1]['Count'],colorBlue2)\n",
    "traceFemale=getbarForColumnForStateGraph(labels[1],dfgraph[dfgraph[colname]==2]['Count'],colorPink)\n",
    "traceUnknown=getbarForColumnForStateGraph(labels[2],dfgraph[(dfgraph[colname]==3)|(dfgraph[colname]==4)]['Count'],colorGray)\n",
    "\n",
    "data = Data([traceFemale, traceMale,traceUnknown])\n",
    "#getbargraphforstate(data,'Loan counts for gender for all US state','Gender-LoanCount-Bar')\n",
    "getbargraphforstate(data,title,filename)"
   ]
  },
  {
   "cell_type": "markdown",
   "metadata": {},
   "source": [
    "#### Race bar graph"
   ]
  },
  {
   "cell_type": "code",
   "execution_count": null,
   "metadata": {},
   "outputs": [],
   "source": [
    "colname='ApplicantRace'\n",
    "dfgraph=getDataFrameGroupByColForState(df_selectdata,colname)"
   ]
  },
  {
   "cell_type": "code",
   "execution_count": null,
   "metadata": {},
   "outputs": [],
   "source": [
    "title='Loan counts for Race for all US state'\n",
    "labels=['American Indian or Alaska Native','Asian','Black or African American','Native Hawaiian or Other Pacific Islander',\n",
    "        'White','Information not provided ','Not applicable']\n",
    "filename='bar-chart-ApplicantRace-State'\n",
    "\n",
    "traceAI=getbarForColumnForStateGraph(labels[0],dfgraph[dfgraph[colname]==1]['Count'],colorYellow4)\n",
    "traceAs=getbarForColumnForStateGraph(labels[1],dfgraph[dfgraph[colname]==2]['Count'],colorBlue2)\n",
    "traceBL=getbarForColumnForStateGraph(labels[2],dfgraph[dfgraph[colname]==3]['Count'],colorGreen3)\n",
    "traceNH=getbarForColumnForStateGraph(labels[3],dfgraph[dfgraph[colname]==4]['Count'],colorRed5)\n",
    "traceW=getbarForColumnForStateGraph(labels[4],dfgraph[dfgraph[colname]==5]['Count'],colorOrange1)\n",
    "\n",
    "traceUnkown=getbarForColumnForStateGraph(labels[5],dfgraph[(dfgraph[colname]==6)|(dfgraph[colname]==7)]['Count'],colorGray)\n",
    "\n",
    "data = Data([traceAI, traceAs,traceBL,traceNH,traceW,traceUnkown])\n",
    "getbargraphforstate(data,title,filename,'stack',1250)\n",
    "#getbargraphforstate(data,title,filename,width=1250)"
   ]
  },
  {
   "cell_type": "markdown",
   "metadata": {},
   "source": [
    "#### Ethinicity bar graph"
   ]
  },
  {
   "cell_type": "code",
   "execution_count": null,
   "metadata": {},
   "outputs": [],
   "source": [
    "colname='ApplicantEthnicity'\n",
    "dfgraph=getDataFrameGroupByColForState(df_selectdata,colname)"
   ]
  },
  {
   "cell_type": "code",
   "execution_count": null,
   "metadata": {},
   "outputs": [],
   "source": [
    "title='Loan counts for Ethnicity for all US state'\n",
    "labels=['Hispanic or Latino','Not Hispanic or Latino','Information not provided ','Not applicable']\n",
    "filename='bar-chart-Ethnicity-State'\n",
    "\n",
    "traceHisp=getbarForColumnForStateGraph(labels[0],dfgraph[dfgraph[colname]==1]['Count'],colorBlue2)\n",
    "traceNoHisp=getbarForColumnForStateGraph(labels[1],dfgraph[dfgraph[colname]==2]['Count'],colorOrange1)\n",
    "# traceBL=getbarForColumnForStateGraph(labels[2],dfgraph[dfgraph[colname]==3]['Count'],'rgb(0, 188, 212)')\n",
    "# traceNH=getbarForColumnForStateGraph(labels[3],dfgraph[dfgraph[colname]==4]['Count'],'rgb(255, 87, 34)')\n",
    "# traceW=getbarForColumnForStateGraph(labels[4],dfgraph[dfgraph[colname]==5]['Count'],'rgb(63, 81, 181)')\n",
    "\n",
    "traceUnkown=getbarForColumnForStateGraph(labels[3],dfgraph[(dfgraph[colname]==3)]['Count'],colorGray)\n",
    "\n",
    "data = Data([traceHisp, traceNoHisp,traceUnkown])\n",
    "getbargraphforstate(data,title,filename)\n",
    "#getbargraphforstate(data,title,filename,width=1250)"
   ]
  },
  {
   "cell_type": "markdown",
   "metadata": {},
   "source": [
    "#### Action bar graph"
   ]
  },
  {
   "cell_type": "code",
   "execution_count": null,
   "metadata": {},
   "outputs": [],
   "source": [
    "colname='ActionType'\n",
    "dfgraph=getDataFrameGroupByColForState(df_selectdata,colname)"
   ]
  },
  {
   "cell_type": "code",
   "execution_count": null,
   "metadata": {},
   "outputs": [],
   "source": [
    "title='Loan counts for Action for all US state'\n",
    "labels=['Loan originated' ,'Application approved but not accepted' , 'Application denied by financial institution', \n",
    "        'Application withdrawn by applicant', 'File closed for incompleteness',' Loan purchased by your institution',\n",
    "        'Preapproval request denied by financial institution','Preapproval request approved but not accepted']\n",
    "filename='bar-chart-Action-State'\n",
    "\n",
    "traceLO=getbarForColumnForStateGraph(labels[0],dfgraph[dfgraph[colname]==1]['Count'],colorGreen3)\n",
    "traceApp=getbarForColumnForStateGraph(labels[1],dfgraph[dfgraph[colname]==2]['Count'],colorBlue2)\n",
    "traceDen=getbarForColumnForStateGraph(labels[2],dfgraph[dfgraph[colname]==3]['Count'],colorRed5)\n",
    "tracepur=getbarForColumnForStateGraph(labels[5],dfgraph[dfgraph[colname]==6]['Count'],colorYellow4)\n",
    "tracePreDeny=getbarForColumnForStateGraph(labels[6],dfgraph[dfgraph[colname]==7]['Count'],colorOrange1)\n",
    "tracePreNtAcc=getbarForColumnForStateGraph(labels[7],dfgraph[dfgraph[colname]==8]['Count'],colorGray)\n",
    "\n",
    "#traceUnkown=getbarForColumnForStateGraph(labels[3],dfgraph[(dfgraph[colname]==4)|(dfgraph[colname]==5)]['Count'],'rgb(190,190,190)')\n",
    "\n",
    "data = Data([traceLO, traceApp,traceDen,tracepur,tracePreDeny,tracePreNtAcc])\n",
    "getbargraphforstate(data,title,filename,barmode='stack')\n",
    "#getbargraphforstate(data,title,filename,width=1250)"
   ]
  },
  {
   "cell_type": "markdown",
   "metadata": {},
   "source": [
    "#### Loan Type bar graph # did not have data in select data"
   ]
  },
  {
   "cell_type": "raw",
   "metadata": {},
   "source": [
    "colname='LoanType'\n",
    "dfgraph=getDataFrameGroupByColForState(df_selectdata,colname)"
   ]
  },
  {
   "cell_type": "raw",
   "metadata": {},
   "source": [
    "title='Loan counts for Action for all US state'\n",
    "labels=['Conventional', 'FHA-insured', 'VA-guaranteed ', 'FSA/RHS-guaranteed']\n",
    "filename='bar-chart-Action-State'\n",
    "\n",
    "traceCo=getbarForColumnForStateGraph(labels[0],dfgraph[dfgraph[colname]==1]['Count'],colorGreen3)\n",
    "traceFha=getbarForColumnForStateGraph(labels[1],dfgraph[dfgraph[colname]==2]['Count'],colorBlue2)\n",
    "traceVA=getbarForColumnForStateGraph(labels[2],dfgraph[dfgraph[colname]==3]['Count'],colorRed5)\n",
    "traceFSA=getbarForColumnForStateGraph(labels[2],dfgraph[dfgraph[colname]==4]['Count'],colorYellow4)\n",
    "\n",
    "data = Data([traceCo, traceFha,traceVA,traceFSA])\n",
    "getbargraphforstate(data,title,filename,barmode='group')\n",
    "#getbargraphforstate(data,title,filename,width=1250)"
   ]
  },
  {
   "cell_type": "markdown",
   "metadata": {},
   "source": [
    "#### Loan Purpose bar graph"
   ]
  },
  {
   "cell_type": "code",
   "execution_count": null,
   "metadata": {},
   "outputs": [],
   "source": [
    "colname='LoanPurpose'\n",
    "dfgraph=getDataFrameGroupByColForState(df_selectdata,colname)"
   ]
  },
  {
   "cell_type": "code",
   "execution_count": null,
   "metadata": {},
   "outputs": [],
   "source": [
    "title='Loan counts for Loan Purpose for all US state'\n",
    "labels=['Home purchase',  'Home improvement', 'Refinancing']\n",
    "filename='bar-chart-LoanPurpose-State'\n",
    "\n",
    "traceFam=getbarForColumnForStateGraph(labels[0],dfgraph[dfgraph[colname]==1]['Count'],colorGreen3)\n",
    "traceMan=getbarForColumnForStateGraph(labels[1],dfgraph[dfgraph[colname]==2]['Count'],colorBlue2)\n",
    "traceMulti=getbarForColumnForStateGraph(labels[2],dfgraph[dfgraph[colname]==3]['Count'],colorRed5)\n",
    "#traceFSA=getbarForColumnForStateGraph(labels[2],dfgraph[dfgraph[colname]==4]['Count'],colorYellow4)\n",
    "\n",
    "data = Data([traceFam, traceMan,traceMulti])\n",
    "getbargraphforstate(data,title,filename,barmode='group')\n",
    "#getbargraphforstate(data,title,filename,width=1250)"
   ]
  },
  {
   "cell_type": "markdown",
   "metadata": {},
   "source": [
    "#### Property Type bar graph"
   ]
  },
  {
   "cell_type": "code",
   "execution_count": null,
   "metadata": {},
   "outputs": [],
   "source": [
    "colname='PropertyType'\n",
    "dfgraph=getDataFrameGroupByColForState(df_selectdata,colname)"
   ]
  },
  {
   "cell_type": "code",
   "execution_count": null,
   "metadata": {},
   "outputs": [],
   "source": [
    "title='Loan counts for Property Type for all US state'\n",
    "labels=['One to four-family',  'Manufactured housing', 'Multifamily']\n",
    "filename='bar-chart-PropertyType-State'\n",
    "\n",
    "traceFam=getbarForColumnForStateGraph(labels[0],dfgraph[dfgraph[colname]==1]['Count'],colorGreen3)\n",
    "traceMan=getbarForColumnForStateGraph(labels[1],dfgraph[dfgraph[colname]==2]['Count'],colorBlue2)\n",
    "traceMulti=getbarForColumnForStateGraph(labels[2],dfgraph[dfgraph[colname]==3]['Count'],colorRed5)\n",
    "#traceFSA=getbarForColumnForStateGraph(labels[2],dfgraph[dfgraph[colname]==4]['Count'],colorYellow4)\n",
    "\n",
    "data = Data([traceFam, traceMan,traceMulti])\n",
    "getbargraphforstate(data,title,filename,barmode='group')\n",
    "#getbargraphforstate(data,title,filename,width=1250)"
   ]
  },
  {
   "cell_type": "markdown",
   "metadata": {},
   "source": [
    "#### Owner Occupancy bar graph"
   ]
  },
  {
   "cell_type": "code",
   "execution_count": null,
   "metadata": {},
   "outputs": [],
   "source": [
    "colname='Occupancy'\n",
    "dfgraph=getDataFrameGroupByColForState(df_selectdata,colname)"
   ]
  },
  {
   "cell_type": "code",
   "execution_count": null,
   "metadata": {},
   "outputs": [],
   "source": [
    "title='Loan counts for Owner Occupancy for all US state'\n",
    "labels=['Owner-occupied as a principal dwelling',  'Not owner-occupied', 'Not applicable']\n",
    "filename='bar-chart-OwnerOccupancy-State'\n",
    "\n",
    "traceFam=getbarForColumnForStateGraph(labels[0],dfgraph[dfgraph[colname]==1]['Count'],colorGreen3)\n",
    "traceMan=getbarForColumnForStateGraph(labels[1],dfgraph[dfgraph[colname]==2]['Count'],colorBlue2)\n",
    "traceMulti=getbarForColumnForStateGraph(labels[2],dfgraph[dfgraph[colname]==3]['Count'],colorGray)\n",
    "#traceFSA=getbarForColumnForStateGraph(labels[2],dfgraph[dfgraph[colname]==4]['Count'],colorYellow4)\n",
    "\n",
    "data = Data([traceFam, traceMan,traceMulti])\n",
    "getbargraphforstate(data,title,filename,barmode='group')\n",
    "#getbargraphforstate(data,title,filename,width=1250)"
   ]
  },
  {
   "cell_type": "code",
   "execution_count": null,
   "metadata": {},
   "outputs": [],
   "source": []
  },
  {
   "cell_type": "markdown",
   "metadata": {},
   "source": [
    "### Action and state bar"
   ]
  },
  {
   "cell_type": "code",
   "execution_count": null,
   "metadata": {},
   "outputs": [],
   "source": [
    "dfgroup=df_selectdata.groupby(['ActionType','StateName'], as_index=False)\n",
    "dfgraph=dfgroup.count().loc[:,['ActionType','StateName','Year']]\n",
    "#dfgraph=dfgraph[dfgraph['Year'].isna()==False]\n",
    "dfgraph['Count']=((dfgraph['Year']/1000.0)).apply(math.ceil)"
   ]
  },
  {
   "cell_type": "code",
   "execution_count": null,
   "metadata": {},
   "outputs": [],
   "source": [
    "traceApprove =graph_objs.Bar( \n",
    "  x= dfgraph[dfgraph['ActionType']==1]['Count'], \n",
    "  y= statelist, \n",
    "  name= \"Loan originated\",\n",
    "      orientation = 'h',\n",
    "marker=dict(\n",
    "        color='rgb(50,205,50)',\n",
    "        line=dict(\n",
    "            color='rgb(34,139,34)',\n",
    "            width=1.5,\n",
    "        )\n",
    "    ),\n",
    "    opacity=0.6,\n",
    "    \n",
    ")\n",
    "traceNotAccepted = graph_objs.Bar(\n",
    "  x= dfgraph[dfgraph['ActionType']==2]['Count'], \n",
    "  y= statelist,\n",
    "  name= \"Application approved but not accepted\", \n",
    "      orientation = 'h',\n",
    "marker=dict(\n",
    "        color='rgb(255,255,0)',\n",
    "        line=dict(\n",
    "            color='rgb(255,255,0)',\n",
    "            width=1.5,\n",
    "        )\n",
    "    ),\n",
    "    opacity=0.6\n",
    ")\n",
    "tracePurchased = graph_objs.Bar(\n",
    "  x= dfgraph[(dfgraph['ActionType']==6)]['Count'], \n",
    "  y= statelist,\n",
    "  name= \"Loan purchased by your institution\", \n",
    "      orientation = 'h',\n",
    "marker=dict(\n",
    "        color='rgb(190,190,190)',\n",
    "        line=dict(\n",
    "            color='rgb(119,136,153)',\n",
    "            width=1.5,\n",
    "        )\n",
    "    ),\n",
    "    opacity=0.6\n",
    ")\n",
    "traceDenied = graph_objs.Bar(\n",
    "  x= dfgraph[(dfgraph['ActionType']==7)]['Count'], \n",
    "  y= statelist,\n",
    "  name= \"Preapproval request denied by financial institution\", \n",
    "      orientation = 'h',\n",
    "marker=dict(\n",
    "        color='rgb(255,0,0)',\n",
    "        line=dict(\n",
    "            color='rgb(255,0,0)',\n",
    "            width=1.5,\n",
    "        )\n",
    "    ),\n",
    "    opacity=0.6\n",
    ")\n",
    "tracePreapproveNotAccepted = graph_objs.Bar(\n",
    "  x= dfgraph[(dfgraph['ActionType']==8)]['Count'], \n",
    "  y= statelist,\n",
    "  name= \"Preapproval request approved but not accepted\", \n",
    "      orientation = 'h',\n",
    "marker=dict(\n",
    "        color='rgb(135,206,250)',\n",
    "        line=dict(\n",
    "            color='rgb(135,206,250)',\n",
    "            width=1.5,\n",
    "        )\n",
    "    ),\n",
    "    opacity=0.6\n",
    ")\n",
    "data = Data([traceApprove,traceNotAccepted,tracePurchased, traceDenied,tracePreapproveNotAccepted])\n",
    "\n",
    "layout = graph_objs.Layout(\n",
    "    title='Loan counts for status for all US state',\n",
    "    width=950,\n",
    "    height=950,\n",
    "    yaxis=dict(\n",
    "        tickfont=dict(\n",
    "            size=10,\n",
    "            color='rgb(107, 107, 107)'\n",
    "        )\n",
    "    ),\n",
    "    xaxis=dict(\n",
    "        title='Counts (000)',\n",
    "        titlefont=dict(\n",
    "            size=16,\n",
    "            color='rgb(107, 107, 107)'\n",
    "        ),\n",
    "        tickfont=dict(\n",
    "            size=14,\n",
    "            color='rgb(107, 107, 107)'\n",
    "        )\n",
    "    ),\n",
    "#    legend=dict(\n",
    "#        x=0,\n",
    "#        y=1.0,\n",
    "#        bgcolor='rgba(255, 255, 255, 0)',\n",
    "#        bordercolor='rgba(255, 255, 255, 0)'\n",
    "#    ),\n",
    "    barmode='stack',\n",
    "    bargap=0.15,\n",
    "    bargroupgap=0.2\n",
    ")\n",
    "\n",
    "\n",
    "fig = Figure(data=data, layout=layout)\n",
    "#py.iplot(fig, filename='grouped-bar-state')\n",
    "createofflineChart(fig,'grouped-bar-state-gender')"
   ]
  },
  {
   "cell_type": "markdown",
   "metadata": {},
   "source": [
    "### Histogram graph"
   ]
  },
  {
   "cell_type": "markdown",
   "metadata": {},
   "source": [
    "#### Income & action bar"
   ]
  },
  {
   "cell_type": "code",
   "execution_count": null,
   "metadata": {},
   "outputs": [],
   "source": [
    "# The logic to conver the income by range with action type\n",
    "count=-1\n",
    "rangestart=0\n",
    "rangeend=50\n",
    "gap=50;\n",
    "i=0\n",
    "df_income_range=  pd.DataFrame(columns=['range', 'start', 'end','ActionType','value'])\n",
    "while(rangeend<10000):\n",
    "   # df=  pd.DataFrame()\n",
    "    #df['range']=str.format(\"{}-{}\",rangestart,rangeend)\n",
    "   # df['start']=rangestart\n",
    "    #df['end']=rangeend    \n",
    "    dfcount=getCountForAmountRange(df_selectdata,'ApplicantIncome',rangestart,rangeend)\n",
    "    for index, row in dfcount.iterrows():\n",
    "        for j in pd.Series([1,2,3,4,5,6,7,8,9]):\n",
    "            actiontype=j\n",
    "            if j==index:\n",
    "                count=row[0]\n",
    "            else:\n",
    "                count=0\n",
    "            df_income_range.loc[i] =((str.format(\"{}-{}\",rangestart,rangeend)),rangestart,rangeend,actiontype,count)\n",
    "            i=i+1\n",
    "            #print(i)\n",
    "        #df['value']=count\n",
    "    #print(str.format(\"{}-{}-{}\",rangestart,rangeend,count))\n",
    "    if(rangeend>=500):\n",
    "        gap=5000\n",
    "    rangestart=rangeend\n",
    "    rangeend=rangeend+gap\n",
    "        #df_income_range=df_income_range.append(df, ignore_index=True)\n",
    "        #i=i+1\n",
    "\n",
    "\n",
    "#df_income_range=df_income_range.append(df, ignore_index=True)\n",
    "#df_income_range.loc[(len(df_income_range))] =(str.format(\"{}-{}\",rangeend,999999),rangeend,999999,y[(y.ApplicantIncome>rangeend)].Year.count())\n",
    "i=len(df_income_range)\n",
    "print('Now '+str(i))\n",
    "dfcount=getCountForAmountRange(df_selectdata,'ApplicantIncome',rangeend,999999)\n",
    "for index, row in dfcount.iterrows():\n",
    "    \n",
    "    for j in pd.Series([1,2,3,4,5,6,7,8,9]):\n",
    "            actiontype=j\n",
    "            if j==index:\n",
    "                count=row[0]\n",
    "            else:\n",
    "                count=0\n",
    "            df_income_range.loc[i] =((str.format(\"{}-{}\",rangestart,999999)),rangestart,999999,actiontype,count)\n",
    "            i=i+1\n",
    "\n",
    "#df_income_m_30=y[(y.ApplicantIncome>rangeend)].Year.count()\n",
    "#print(df_income_m_30)   \n",
    "df_income_range=df_income_range.groupby(['start','end','ActionType'],as_index=False).sum()    \n",
    "df_income_range['range']=df_income_range['start'].astype(str) + '-'+df_income_range['end'].astype(str) "
   ]
  },
  {
   "cell_type": "code",
   "execution_count": null,
   "metadata": {
    "scrolled": true
   },
   "outputs": [],
   "source": [
    "# graph for 0-1101\n",
    "# graph for 1101-5101\n",
    "# graph for 5101-99999\n",
    "\n",
    "data,layout,dfgraph=drawIncomegraphonRange(df_income_range,'Loan status grouped by Salary range',0, 999999)\n",
    "fig = Figure(data=data, layout=layout)\n",
    "#py.iplot(fig, filename='grouped-bar-state-salary')\n",
    "createofflineChart(fig,'grouped-bar-state-salary')"
   ]
  },
  {
   "cell_type": "markdown",
   "metadata": {},
   "source": [
    "#### loan amount state graph"
   ]
  },
  {
   "cell_type": "code",
   "execution_count": null,
   "metadata": {},
   "outputs": [],
   "source": [
    "# The logoc to conver the income by range with action type\n",
    "count=-1\n",
    "rangestart=0\n",
    "rangeend=50\n",
    "gap=50;\n",
    "i=0\n",
    "df_loanamt_range=  pd.DataFrame(columns=['range', 'start', 'end','ActionType','value'])\n",
    "while(rangeend<10000):\n",
    "   # df=  pd.DataFrame()\n",
    "    #df['range']=str.format(\"{}-{}\",rangestart,rangeend)\n",
    "   # df['start']=rangestart\n",
    "    #df['end']=rangeend    \n",
    "    dfcount=getCountForAmountRange(df_selectdata,'LoanAmount',rangestart,rangeend)\n",
    "    for index, row in dfcount.iterrows():\n",
    "        for j in pd.Series([1,2,3,4,5,6,7,8,9]):\n",
    "            actiontype=j\n",
    "            if j==index:\n",
    "                count=row[0]\n",
    "            else:\n",
    "                count=0\n",
    "            df_loanamt_range.loc[i] =((str.format(\"{}-{}\",rangestart,rangeend)),rangestart,rangeend,actiontype,count)\n",
    "            i=i+1\n",
    "            #print(i)\n",
    "        #df['value']=count\n",
    "    #print(str.format(\"{}-{}-{}\",rangestart,rangeend,count))\n",
    "    if(rangeend>=500):\n",
    "        gap=5000\n",
    "    rangestart=rangeend\n",
    "    rangeend=rangeend+gap\n",
    "        #df_income_range=df_income_range.append(df, ignore_index=True)\n",
    "        #i=i+1\n",
    "\n",
    "\n",
    "#df_income_range=df_income_range.append(df, ignore_index=True)\n",
    "#df_income_range.loc[(len(df_income_range))] =(str.format(\"{}-{}\",rangeend,999999),rangeend,999999,y[(y.ApplicantIncome>rangeend)].Year.count())\n",
    "i=len(df_loanamt_range)\n",
    "print('Now '+str(i))\n",
    "dfcount=getCountForAmountRange(df_selectdata,'LoanAmount',rangeend,999999)\n",
    "for index, row in dfcount.iterrows():\n",
    "    \n",
    "    for j in pd.Series([1,2,3,4,5,6,7,8,9]):\n",
    "            actiontype=j\n",
    "            if j==index:\n",
    "                count=row[0]\n",
    "            else:\n",
    "                count=0\n",
    "            df_income_range.loc[i] =((str.format(\"{}-{}\",rangestart,999999)),rangestart,999999,actiontype,count)\n",
    "            i=i+1\n",
    "\n",
    "#df_income_m_30=y[(y.ApplicantIncome>rangeend)].Year.count()\n",
    "#print(df_income_m_30)   \n",
    "df_loanamt_range=df_loanamt_range.groupby(['start','end','ActionType'],as_index=False).sum()    \n",
    "df_loanamt_range['range']=df_loanamt_range['start'].astype(str) + '-'+df_loanamt_range['end'].astype(str) "
   ]
  },
  {
   "cell_type": "code",
   "execution_count": null,
   "metadata": {},
   "outputs": [],
   "source": [
    "\n",
    "data,layout,dfgraph=drawIncomegraphonRange(df_loanamt_range,'Loan status grouped by loan amount range',0, 999999)\n",
    "fig = Figure(data=data, layout=layout)\n",
    "#py.iplot(fig, filename='grouped-bar-state-loanamt')\n",
    "createofflineChart(fig,'grouped-bar-state-loanamt')"
   ]
  },
  {
   "cell_type": "markdown",
   "metadata": {},
   "source": [
    "### Half donut graph for Approve Deny for each field"
   ]
  },
  {
   "cell_type": "markdown",
   "metadata": {},
   "source": [
    "#### gender and state"
   ]
  },
  {
   "cell_type": "code",
   "execution_count": null,
   "metadata": {},
   "outputs": [],
   "source": [
    "colname='ApplicantRace'\n",
    "dfselectRace=getDataFrameGrroupedbyCol(df_selectdata,colname)"
   ]
  },
  {
   "cell_type": "code",
   "execution_count": null,
   "metadata": {},
   "outputs": [],
   "source": [
    "### working on making 1 file 4 graph\n",
    "#race=1\n",
    "#raceName='American Indian or Alaska Native'\n",
    "title='Approved and Deny by Applicant Race'\n",
    "#labellist=[raceName,\"Denied\",\"Accepted\"]\n",
    "labels=['American Indian or Alaska Native','Asian','Black or African American','Native Hawaiian or Other Pacific Islander','White','Information not provided/NA','Not applicable']\n",
    "filename='gauge-meter-chart-Race-State.html'\n",
    "inputPercList1,inputPercListText1=getlistbycolumnForResult(dfselectRace,colname,1)\n",
    "inputPercList2,inputPercListText2=getlistbycolumnForResult(dfselectRace,colname,2)\n",
    "inputPercList3,inputPercListText3=getlistbycolumnForResult(dfselectRace,colname,3)\n",
    "inputPercList4,inputPercListText4=getlistbycolumnForResult(dfselectRace,colname,4)\n",
    "inputPercList5,inputPercListText5=getlistbycolumnForResult(dfselectRace,colname,5)\n",
    "inputPercList6,inputPercListText6=getlistbycolumnForResult(dfselectRace,colname,[6,7])\n",
    "\n",
    "createSixHalfDonut(title,inputPercList1,inputPercListText1,inputPercList2,inputPercListText2,\n",
    "                        inputPercList3,inputPercListText3,inputPercList4,inputPercListText4,inputPercList5,inputPercListText5,\n",
    "                   inputPercList6,inputPercListText6,labels,filename)"
   ]
  },
  {
   "cell_type": "markdown",
   "metadata": {},
   "source": [
    "#### Gender graph"
   ]
  },
  {
   "cell_type": "code",
   "execution_count": null,
   "metadata": {},
   "outputs": [],
   "source": [
    "colname='ApplicantSex'\n",
    "dfselect=getDataFrameGrroupedbyCol(df_selectdata,colname)"
   ]
  },
  {
   "cell_type": "code",
   "execution_count": null,
   "metadata": {},
   "outputs": [],
   "source": [
    "title='Approved and Deny by Applicant Gender'\n",
    "labels=['Men','Women','Unknown']\n",
    "filename='gauge-meter-chart-gender-State'\n",
    "inputPercList1,inputPercListText1=getlistbycolumnForResult(dfselect,colname,1)\n",
    "inputPercList2,inputPercListText2=getlistbycolumnForResult(dfselect,colname,2)\n",
    "inputPercList3,inputPercListText3=getlistbycolumnForResult(dfselect,colname,[3,4])\n",
    "\n",
    "createThreeHalfDonut(title,inputPercList1,inputPercListText1,inputPercList2,inputPercListText2,\n",
    "                        inputPercList3,inputPercListText3,labels,filename)"
   ]
  },
  {
   "cell_type": "markdown",
   "metadata": {},
   "source": [
    "#### Ethinicity bar graph"
   ]
  },
  {
   "cell_type": "code",
   "execution_count": null,
   "metadata": {},
   "outputs": [],
   "source": [
    "colname='ApplicantEthnicity'\n",
    "dfselect=getDataFrameGrroupedbyCol(df_selectdata,colname)"
   ]
  },
  {
   "cell_type": "code",
   "execution_count": null,
   "metadata": {},
   "outputs": [],
   "source": [
    "title='Approved and Deny by Applicant Ethinicity'\n",
    "labels=['Hispanic or Latino','Not Hispanic or Latino','Information not provided ','Not applicable']\n",
    "filename='gauge-meter-Ethnicity-State'\n",
    "inputPercList1,inputPercListText1=getlistbycolumnForResult(dfselect,colname,1)\n",
    "inputPercList2,inputPercListText2=getlistbycolumnForResult(dfselect,colname,2)\n",
    "inputPercList3,inputPercListText3=getlistbycolumnForResult(dfselect,colname,[3,4])\n",
    "\n",
    "createThreeHalfDonut(title,inputPercList1,inputPercListText1,inputPercList2,inputPercListText2,\n",
    "                        inputPercList3,inputPercListText3,labels,filename)"
   ]
  },
  {
   "cell_type": "markdown",
   "metadata": {},
   "source": [
    "#### Loan Type bar graph # we dont have data"
   ]
  },
  {
   "cell_type": "raw",
   "metadata": {},
   "source": [
    "colname='LoanType'\n",
    "dfselect=getDataFrameGrroupedbyCol(df_selectdata,colname)"
   ]
  },
  {
   "cell_type": "raw",
   "metadata": {},
   "source": [
    "title='Loan counts for Ethnicity for all US state'\n",
    "labels=['Conventional', 'FHA-insured', 'VA-guaranteed ', 'FSA/RHS-guaranteed']\n",
    "filename='gauge-meter--Ethnicity-State'\n",
    "inputPercList1,inputPercListText1=getlistbycolumnForResult(dfselect,colname,1)\n",
    "inputPercList2,inputPercListText2=getlistbycolumnForResult(dfselect,colname,2)\n",
    "inputPercList3,inputPercListText3=getlistbycolumnForResult(dfselect,colname,3)\n",
    "inputPercList4,inputPercListText4=getlistbycolumnForResult(dfselectRace,colname,4)\n",
    "\n",
    "createFourHalfDonut(title,inputPercList1,inputPercListText1,inputPercList2,inputPercListText2,\n",
    "                        inputPercList3,inputPercListText3,inputPercList4,inputPercListText4,labels,filename)"
   ]
  },
  {
   "cell_type": "markdown",
   "metadata": {},
   "source": [
    "df_selectdata.info()"
   ]
  },
  {
   "cell_type": "markdown",
   "metadata": {},
   "source": [
    "#### Property Type bar graph"
   ]
  },
  {
   "cell_type": "code",
   "execution_count": null,
   "metadata": {},
   "outputs": [],
   "source": [
    "colname='PropertyType'\n",
    "dfselect=getDataFrameGrroupedbyCol(df_selectdata,colname)"
   ]
  },
  {
   "cell_type": "code",
   "execution_count": null,
   "metadata": {},
   "outputs": [],
   "source": [
    "title='Approved and Deny by Applicant Properrt Type'\n",
    "labels=['One to four-family',  'Manufactured housing', 'Multifamily']\n",
    "filename='gauge-meter-PropertyType-State'\n",
    "inputPercList1,inputPercListText1=getlistbycolumnForResult(dfselect,colname,1)\n",
    "inputPercList2,inputPercListText2=getlistbycolumnForResult(dfselect,colname,2)\n",
    "inputPercList3,inputPercListText3=getlistbycolumnForResult(dfselect,colname,3)\n",
    "\n",
    "\n",
    "createThreeHalfDonut(title,inputPercList1,inputPercListText1,inputPercList2,inputPercListText2,\n",
    "                        inputPercList3,inputPercListText3,labels,filename)"
   ]
  },
  {
   "cell_type": "markdown",
   "metadata": {},
   "source": [
    "#### Owner Occupancy bar graph"
   ]
  },
  {
   "cell_type": "code",
   "execution_count": null,
   "metadata": {},
   "outputs": [],
   "source": [
    "colname='Occupancy'\n",
    "dfselect=getDataFrameGrroupedbyCol(df_selectdata,colname)"
   ]
  },
  {
   "cell_type": "code",
   "execution_count": null,
   "metadata": {},
   "outputs": [],
   "source": [
    "title='Approved and Deny by Occupancy'\n",
    "labels=['Owner-occupied as a principal dwelling',  'Not owner-occupied', 'Not applicable']\n",
    "filename='gauge-meter-OwnerOccupancy-State'\n",
    "inputPercList1,inputPercListText1=getlistbycolumnForResult(dfselect,colname,1)\n",
    "inputPercList2,inputPercListText2=getlistbycolumnForResult(dfselect,colname,2)\n",
    "inputPercList3,inputPercListText3=getlistbycolumnForResult(dfselect,colname,3)\n",
    "\n",
    "\n",
    "createThreeHalfDonut(title,inputPercList1,inputPercListText1,inputPercList2,inputPercListText2,\n",
    "                        inputPercList3,inputPercListText3,labels,filename)"
   ]
  },
  {
   "cell_type": "markdown",
   "metadata": {},
   "source": [
    "#### Loan Purpose bar graph"
   ]
  },
  {
   "cell_type": "code",
   "execution_count": null,
   "metadata": {},
   "outputs": [],
   "source": [
    "colname='LoanPurpose'\n",
    "dfselect=getDataFrameGrroupedbyCol(df_selectdata,colname)"
   ]
  },
  {
   "cell_type": "code",
   "execution_count": null,
   "metadata": {},
   "outputs": [],
   "source": [
    "title='Approved and Deny by Loan Purpose'\n",
    "labels=['Home purchase',  'Home improvement', 'Refinancing']\n",
    "filename='gauge-meter-LoanPurpose-State'\n",
    "inputPercList1,inputPercListText1=getlistbycolumnForResult(dfselect,colname,1)\n",
    "inputPercList2,inputPercListText2=getlistbycolumnForResult(dfselect,colname,2)\n",
    "inputPercList3,inputPercListText3=getlistbycolumnForResult(dfselect,colname,3)\n",
    "\n",
    "\n",
    "createThreeHalfDonut(title,inputPercList1,inputPercListText1,inputPercList2,inputPercListText2,\n",
    "                        inputPercList3,inputPercListText3,labels,filename)"
   ]
  },
  {
   "cell_type": "markdown",
   "metadata": {},
   "source": [
    "### Race"
   ]
  },
  {
   "cell_type": "code",
   "execution_count": null,
   "metadata": {},
   "outputs": [],
   "source": [
    "# get the gender(Applicant Sex) column dataframe\n",
    "colname='ApplicantRace'\n",
    "dfselectRace=getDataFrameGrroupedbyCol(df_selectdata,colname)"
   ]
  },
  {
   "cell_type": "code",
   "execution_count": null,
   "metadata": {},
   "outputs": [],
   "source": [
    "### working on making 1 file 4 graph\n",
    "#race=1\n",
    "#raceName='American Indian or Alaska Native'\n",
    "title='Approved and Deny by Applicant Race'\n",
    "#labellist=[raceName,\"Denied\",\"Accepted\"]\n",
    "labels=['American Indian or Alaska Native','Asian','Black or African American','Native Hawaiian or Other Pacific Islander','White','Information not provided ','Not applicable']\n",
    "filename='gauge-meter-chart-Race-State.html'\n",
    "inputPercList1,inputPercListText1=getlistbycolumnForResult(dfselectRace,colname,1)\n",
    "inputPercList2,inputPercListText2=getlistbycolumnForResult(dfselectRace,colname,2)\n",
    "inputPercList3,inputPercListText3=getlistbycolumnForResult(dfselectRace,colname,3)\n",
    "inputPercList4,inputPercListText4=getlistbycolumnForResult(dfselectRace,colname,4)\n",
    "inputPercList5,inputPercListText5=getlistbycolumnForResult(dfselectRace,colname,5)\n",
    "inputPercList6,inputPercListText6=getlistbycolumnForResult(dfselectRace,colname,6)\n",
    "\n",
    "createSixHalfDonut(title,inputPercList1,inputPercListText1,inputPercList2,inputPercListText2,\n",
    "                        inputPercList3,inputPercListText3,inputPercList4,inputPercListText4,inputPercList5,inputPercListText5,\n",
    "                   inputPercList6,inputPercListText6,labels,filename)"
   ]
  },
  {
   "cell_type": "markdown",
   "metadata": {},
   "source": [
    "### Ethincity"
   ]
  },
  {
   "cell_type": "code",
   "execution_count": null,
   "metadata": {},
   "outputs": [],
   "source": [
    "# get the gender(Applicant Sex) column dataframe\n",
    "colname='ApplicantEthnicity'\n",
    "dfselectEhin=getDataFrameGrroupedbyCol(df_selectdata,colname)"
   ]
  },
  {
   "cell_type": "markdown",
   "metadata": {},
   "source": [
    "### Donut graph for Approve Deny for each field"
   ]
  },
  {
   "cell_type": "markdown",
   "metadata": {},
   "source": [
    "#### Gender bar graph"
   ]
  },
  {
   "cell_type": "code",
   "execution_count": null,
   "metadata": {},
   "outputs": [],
   "source": [
    "#gender\n",
    "colname='ApplicantSex'\n",
    "dfselectProp=getDataFrameGrroupedbyCol(df_selectdata,colname)"
   ]
  },
  {
   "cell_type": "code",
   "execution_count": null,
   "metadata": {},
   "outputs": [],
   "source": [
    "inputPercList1,inputPercListText1=getlistofResultbycolumn(dfselectProp,0)\n",
    "inputPercList2,inputPercListText2=getlistofResultbycolumn(dfselectProp,1)\n",
    "namefirst='Approved'\n",
    "namesecond='Denied'\n",
    "title='Distribution by Applicant gender'\n",
    "labels=['Male','Female','Information not provided ','Not applicable']\n",
    "filename='pie-chart-gender'\n",
    "fig=createPiChartFortwoValues(inputPercList1,inputPercList2,labels,title,filename,namefirst,namesecond)\n",
    "createofflineChart(fig,filename)"
   ]
  },
  {
   "cell_type": "markdown",
   "metadata": {},
   "source": [
    "#### Race bar graph"
   ]
  },
  {
   "cell_type": "code",
   "execution_count": null,
   "metadata": {},
   "outputs": [],
   "source": [
    "# owner ApplicantRace\n",
    "colname='ApplicantRace'\n",
    "dfselectProp=getDataFrameGrroupedbyCol(df_selectdata,colname)"
   ]
  },
  {
   "cell_type": "code",
   "execution_count": null,
   "metadata": {},
   "outputs": [],
   "source": [
    "inputPercList1,inputPercListText1=getlistofResultbycolumn(dfselectProp,0)\n",
    "inputPercList2,inputPercListText2=getlistofResultbycolumn(dfselectProp,1)\n",
    "namefirst='Approved'\n",
    "namesecond='Denied'\n",
    "title='Distribution by Applicant Race'\n",
    "labels=['American Indian or Alaska Native','Asian','Black or African American','Native Hawaiian or Other Pacific Islander','White','Information not provided ','Not applicable']\n",
    "filename='pie-chart-ApplicantRace'\n",
    "fig=createPiChartFortwoValues(inputPercList1,inputPercList2,labels,title,filename,namefirst,namesecond)\n",
    "createofflineChart(fig,filename)"
   ]
  },
  {
   "cell_type": "markdown",
   "metadata": {},
   "source": [
    "#### Ethinicity bar graph"
   ]
  },
  {
   "cell_type": "code",
   "execution_count": null,
   "metadata": {},
   "outputs": [],
   "source": [
    "# owner ethincity\n",
    "colname='ApplicantEthnicity'\n",
    "dfselectProp=getDataFrameGrroupedbyCol(df_selectdata,colname)"
   ]
  },
  {
   "cell_type": "code",
   "execution_count": null,
   "metadata": {},
   "outputs": [],
   "source": [
    "inputPercList1,inputPercListText1=getlistofResultbycolumn(dfselectProp,0)\n",
    "inputPercList2,inputPercListText2=getlistofResultbycolumn(dfselectProp,1)\n",
    "namefirst='Approved'\n",
    "namesecond='Denied'\n",
    "title='Distribution by Applicant Ethnicity'\n",
    "labels=['Hispanic or Latino','Not Hispanic or Latino','Information not provided ','Not applicable']\n",
    "filename='pie-chart-Ethin'\n",
    "fig=createPiChartFortwoValues(inputPercList1,inputPercList2,labels,title,filename,namefirst,namesecond)\n",
    "createofflineChart(fig,filename)"
   ]
  },
  {
   "cell_type": "markdown",
   "metadata": {},
   "source": [
    "#### Property Type bar graph"
   ]
  },
  {
   "cell_type": "code",
   "execution_count": null,
   "metadata": {},
   "outputs": [],
   "source": [
    "# property type\n",
    "colname='PropertyType'\n",
    "dfselectProp=getDataFrameGrroupedbyCol(df_selectdata,colname)"
   ]
  },
  {
   "cell_type": "code",
   "execution_count": null,
   "metadata": {},
   "outputs": [],
   "source": [
    "# res=1\n",
    "# propname='One to four-family'\n",
    "inputPercList1,inputPercListText1=getlistofResultbycolumn(dfselectProp,0)\n",
    "inputPercList2,inputPercListText2=getlistofResultbycolumn(dfselectProp,1)\n",
    "namefirst='Approved'\n",
    "namesecond='Denied'\n",
    "title='Distribution by Loan Property'\n",
    "labels=['One to four-family (other than manufactured housing)','Manufactured housing','Multifamily']\n",
    "filename='pie-chart-propType'\n",
    "fig=createPiChartFortwoValues(inputPercList1,inputPercList2,labels,title,filename,namefirst,namesecond)\n",
    "createofflineChart(fig,filename)"
   ]
  },
  {
   "cell_type": "markdown",
   "metadata": {},
   "source": [
    "#### Owner Occupancy bar graph"
   ]
  },
  {
   "cell_type": "code",
   "execution_count": null,
   "metadata": {},
   "outputs": [],
   "source": [
    "# owner occupancy\n",
    "colname='Occupancy'\n",
    "dfselectProp=getDataFrameGrroupedbyCol(df_selectdata,colname)"
   ]
  },
  {
   "cell_type": "code",
   "execution_count": null,
   "metadata": {},
   "outputs": [],
   "source": [
    "inputPercList1,inputPercListText1=getlistofResultbycolumn(dfselectProp,0)\n",
    "inputPercList2,inputPercListText2=getlistofResultbycolumn(dfselectProp,1)\n",
    "namefirst='Approved'\n",
    "namesecond='Denied'\n",
    "title='Distribution by Owner Occupancy'\n",
    "labels=['Owner-occupied as a principal dwelling','Not owner-occupied','Not applicable']\n",
    "filename='pie-chart-OwnerOccupancy'\n",
    "fig=createPiChartFortwoValues(inputPercList1,inputPercList2,labels,title,filename,namefirst,namesecond)\n",
    "createofflineChart(fig,filename)"
   ]
  },
  {
   "cell_type": "markdown",
   "metadata": {},
   "source": [
    "#### Loan Purpose bar graph"
   ]
  },
  {
   "cell_type": "code",
   "execution_count": null,
   "metadata": {},
   "outputs": [],
   "source": [
    "# loan purpose\n",
    "colname='LoanPurpose'\n",
    "dfselectProp=getDataFrameGrroupedbyCol(df_selectdata,colname)"
   ]
  },
  {
   "cell_type": "code",
   "execution_count": null,
   "metadata": {},
   "outputs": [],
   "source": [
    "inputPercList1,inputPercListText1=getlistofResultbycolumn(dfselectProp,0)\n",
    "inputPercList2,inputPercListText2=getlistofResultbycolumn(dfselectProp,1)\n",
    "namefirst='Approved'\n",
    "namesecond='Denied'\n",
    "title='Distribution by Loan Purpose'\n",
    "labels=['Home purchase','Home improvement','Refinancing']\n",
    "filename='pie-chart-LoanPurp'\n",
    "fig=createPiChartFortwoValues(inputPercList1,inputPercList2,labels,title,filename,namefirst,namesecond)\n",
    "createofflineChart(fig,filename)"
   ]
  },
  {
   "cell_type": "code",
   "execution_count": null,
   "metadata": {},
   "outputs": [],
   "source": [
    "def url_to_iframe(url, text=True):\n",
    "    html = ''\n",
    "    # style\n",
    "    html += '''<head>\n",
    "    <style>\n",
    "    div.textbox {\n",
    "        margin: 30px;\n",
    "        font-weight: bold;   \n",
    "    }\n",
    "    </style>\n",
    "    </head>'\n",
    "    '''\n",
    "    # iframe\n",
    "    html += '<iframe src=' + url + '.embed#{} width=750 height=400 frameBorder=\"0\"></iframe>'\n",
    "    if text:\n",
    "        html += '''<body>\n",
    "        <div class=\"textbox\">\n",
    "            <p>Click on the presentation above and use left/right arrow keys to flip through the slides.</p>\n",
    "        </div>\n",
    "        </body>\n",
    "        '''\n",
    "    return html"
   ]
  },
  {
   "cell_type": "code",
   "execution_count": null,
   "metadata": {},
   "outputs": [],
   "source": [
    "filename = 'simple-pres'\n",
    "markdown_string = \"\"\"\n",
    "# slide 1\n",
    "There is only one slide.\n",
    "\n",
    "---\n",
    "# slide 2\n",
    "Again, another slide on this page.\n",
    "\n",
    "\"\"\"\n",
    "\n",
    "my_pres = pres.Presentation(markdown_string)\n",
    "pres_url_0 = ' https://plot.ly/~saurabhpundir/0'"
   ]
  },
  {
   "cell_type": "raw",
   "metadata": {},
   "source": [
    "import IPython\n",
    "pres_url_0 = ' https://plot.ly/~saurabhpundir/0'\n",
    "iframe_0 = url_to_iframe(pres_url_0, True)\n",
    "IPython.display.HTML(iframe_0)"
   ]
  },
  {
   "cell_type": "markdown",
   "metadata": {},
   "source": [
    "#### Gender bar graph"
   ]
  },
  {
   "cell_type": "code",
   "execution_count": null,
   "metadata": {},
   "outputs": [],
   "source": []
  },
  {
   "cell_type": "markdown",
   "metadata": {},
   "source": [
    "#### Race bar graph"
   ]
  },
  {
   "cell_type": "code",
   "execution_count": null,
   "metadata": {},
   "outputs": [],
   "source": []
  },
  {
   "cell_type": "markdown",
   "metadata": {},
   "source": [
    "#### Ethinicity bar graph"
   ]
  },
  {
   "cell_type": "code",
   "execution_count": null,
   "metadata": {},
   "outputs": [],
   "source": []
  },
  {
   "cell_type": "markdown",
   "metadata": {},
   "source": [
    "#### Action bar graph"
   ]
  },
  {
   "cell_type": "code",
   "execution_count": null,
   "metadata": {},
   "outputs": [],
   "source": []
  },
  {
   "cell_type": "markdown",
   "metadata": {},
   "source": [
    "#### Property Type bar graph"
   ]
  },
  {
   "cell_type": "code",
   "execution_count": null,
   "metadata": {},
   "outputs": [],
   "source": []
  },
  {
   "cell_type": "markdown",
   "metadata": {},
   "source": [
    "#### Owner Occupancy bar graph"
   ]
  },
  {
   "cell_type": "code",
   "execution_count": null,
   "metadata": {},
   "outputs": [],
   "source": []
  },
  {
   "cell_type": "markdown",
   "metadata": {},
   "source": [
    "#### Loan Purpose bar graph"
   ]
  },
  {
   "cell_type": "code",
   "execution_count": null,
   "metadata": {},
   "outputs": [],
   "source": []
  },
  {
   "cell_type": "markdown",
   "metadata": {},
   "source": [
    "#### PurchaserType  bar graph"
   ]
  },
  {
   "cell_type": "code",
   "execution_count": null,
   "metadata": {},
   "outputs": [],
   "source": []
  },
  {
   "cell_type": "code",
   "execution_count": null,
   "metadata": {},
   "outputs": [],
   "source": []
  },
  {
   "cell_type": "code",
   "execution_count": null,
   "metadata": {},
   "outputs": [],
   "source": []
  },
  {
   "cell_type": "code",
   "execution_count": null,
   "metadata": {},
   "outputs": [],
   "source": []
  },
  {
   "cell_type": "code",
   "execution_count": null,
   "metadata": {},
   "outputs": [],
   "source": []
  },
  {
   "cell_type": "code",
   "execution_count": null,
   "metadata": {},
   "outputs": [],
   "source": []
  }
 ],
 "metadata": {
  "kernelspec": {
   "display_name": "Python 3",
   "language": "python",
   "name": "python3"
  },
  "language_info": {
   "codemirror_mode": {
    "name": "ipython",
    "version": 3
   },
   "file_extension": ".py",
   "mimetype": "text/x-python",
   "name": "python",
   "nbconvert_exporter": "python",
   "pygments_lexer": "ipython3",
   "version": "3.6.5"
  }
 },
 "nbformat": 4,
 "nbformat_minor": 2
}
