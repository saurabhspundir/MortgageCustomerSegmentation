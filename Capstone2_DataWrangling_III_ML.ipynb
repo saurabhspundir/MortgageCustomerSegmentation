{
 "cells": [
  {
   "cell_type": "code",
   "execution_count": 1,
   "metadata": {},
   "outputs": [],
   "source": [
    "import numpy as np\n",
    "import pandas as pd\n",
    "# import sklearn.model_selection\n",
    "# from sklearn.model_selection import train_test_split\n",
    "# from sklearn.linear_model import LogisticRegression\n",
    "# from sklearn.metrics import accuracy_score\n",
    "# from sklearn.metrics import confusion_matrix\n",
    "# from sklearn.metrics import classification_report\n",
    "# from sklearn import preprocessing\n",
    "# from sklearn.feature_selection import RFE\n",
    "# from sklearn.ensemble import RandomForestClassifier\n",
    "import pickle\n",
    "from IPython.core.display import HTML\n",
    "#import matplotlib\n",
    "# import seaborn as sns\n",
    "# import matplotlib.pyplot as plt\n",
    "# from datetime import datetime\n",
    "# from collections import OrderedDict\n",
    "%matplotlib inline"
   ]
  },
  {
   "cell_type": "markdown",
   "metadata": {},
   "source": [
    "<div class=\"span5 alert alert-info\">\n",
    "<h2>Notebook details</h2>\n",
    "\n",
    "<p> This notebook is for <b>Cluesting</b> for <b>Mortagage custome segementation</b> project.</p>\n",
    "\n",
    "<p> Notes.</p>\n",
    "<ol>\n",
    "<li>Perform baseline analysis </li>\n",
    "<li>Perform feature important analysis </li>\n",
    "<li>Perform multiple runs for training and test data to understand variation in accuracy </li>\n",
    "<li> Apply K Mean clustering algorithm to the data\n",
    "<!--     <ul>\n",
    "     <li>Extract Confusion matrix for logistic regression </li>\n",
    "     <li>Extract classification report for logistic regression </li>\n",
    "    </ul> -->\n",
    "</li>        \n",
    "</ol>\n",
    "</div>"
   ]
  },
  {
   "cell_type": "code",
   "execution_count": 45,
   "metadata": {},
   "outputs": [],
   "source": [
    "# setting some initial values and reading data from pickle file\n",
    "pd.set_option('display.max_colwidth', -1)\n",
    "color_success='#00ff66'#kickstarter green#'#2BDE73'\n",
    "color_fail='#FF192F'#'#FFC7CE'#'#FFC7CE'#'#FF0000' # red\n",
    "stateSuccess='Successful'\n",
    "stateFail='Failed'\n",
    "css = open('style/style-table.css').read() + open('style/style-notebook.css').read()\n",
    "cssAnalysis = '.analysis {background:#5bffc0; }' \n",
    "HTML('<style>{} {}</style>'.format(css,cssAnalysis))\n",
    "pickle_file='df_selectdata_hmda_cenus.sa'\n",
    "df_selectdata = pickle.load( open( pickle_file, \"rb\" ) )\n",
    "#df_final_months.info()\n",
    "#df_final_months.head()"
   ]
  },
  {
   "cell_type": "code",
   "execution_count": 46,
   "metadata": {},
   "outputs": [
    {
     "name": "stdout",
     "output_type": "stream",
     "text": [
      "<class 'pandas.core.frame.DataFrame'>\n",
      "Int64Index: 31630026 entries, 0 to 49681\n",
      "Data columns (total 21 columns):\n",
      "Year                    int64\n",
      "PropertyType            int64\n",
      "LoanPurpose             float64\n",
      "Occupancy               float64\n",
      "LoanAmount              float64\n",
      "ActionType              float64\n",
      "MSA                     float64\n",
      "StateCode               float64\n",
      "CountyCode              float64\n",
      "ApplicantEthnicity      float64\n",
      "CoApplicantEthnicity    float64\n",
      "ApplicantRace           float64\n",
      "CoApplicantRace         float64\n",
      "ApplicantSex            float64\n",
      "CoApplicantSex          float64\n",
      "ApplicantIncome         float64\n",
      "PurchaserType           float64\n",
      "StateName               object\n",
      "CountyName              object\n",
      "CLASSCODEFIPS           object\n",
      "Result                  int64\n",
      "dtypes: float64(15), int64(3), object(3)\n",
      "memory usage: 5.2+ GB\n"
     ]
    }
   ],
   "source": [
    "df_selectdata.info()"
   ]
  },
  {
   "cell_type": "markdown",
   "metadata": {},
   "source": [
    "## Helper methods"
   ]
  },
  {
   "cell_type": "code",
   "execution_count": 49,
   "metadata": {},
   "outputs": [],
   "source": [
    "# Method to convert the category column into dummy columns \n",
    "def AddDummyColumnsToDataFrame(dfinput,colname,removelastdummy=False):\n",
    "    print('Add {}'.format(colname))\n",
    "    temp =pd.get_dummies(dfinput[colname])\n",
    "    # remove one column from dummies with least value.\n",
    "  \n",
    "    if removelastdummy:\n",
    "        t=dfinput.groupby(colname).count().state\n",
    "        col_name=((t[t.values==t.min()]).index).get_values()[0]\n",
    "        if col_name in temp.columns:\n",
    "            print('removed column {}'.format(col_name))\n",
    "            temp=temp.drop([col_name], axis=1)\n",
    "    \n",
    "    # remove the main column after extracting dummy\n",
    "    if colname in dfinput.columns:\n",
    "        print('removed column {}'.format(colname))\n",
    "        dfinput =dfinput.drop([colname], axis=1)\n",
    "    for col in temp:\n",
    "        temp.rename(columns={col: colname+'_'+str(col)}, inplace=True)\n",
    "    \n",
    "    return  pd.concat([dfinput,temp], axis=1,ignore_index=False)"
   ]
  },
  {
   "cell_type": "code",
   "execution_count": 6,
   "metadata": {},
   "outputs": [],
   "source": [
    "def createResultCol(row):\n",
    "    if (row.ActionType==1 ):\n",
    "        row.Result=1\n",
    "    elif (row.ActionType==2 ):\n",
    "        row.Result=0\n",
    "    elif (row.ActionType==3 ):\n",
    "        row.Result=-1\n",
    "    elif (row.ActionType==4 ):\n",
    "        row.Result=0        \n",
    "    elif (row.ActionType==5 ):\n",
    "        row.Result=np.NAN\n",
    "    elif (row.ActionType==6 ):\n",
    "        row.Result=1\n",
    "    elif (row.ActionType==7 ):\n",
    "        row.Result=-1\n",
    "    elif (row.ActionType==8 ):\n",
    "        row.Result=0        \n",
    "    else:\n",
    "        row.Result=np.NAN\n",
    "    return row"
   ]
  },
  {
   "cell_type": "code",
   "execution_count": 5,
   "metadata": {},
   "outputs": [],
   "source": [
    "# Method for applying label encoding to column\n",
    "def ModifyingColumnToLabel(df,colname):\n",
    "    lab_enc = preprocessing.LabelEncoder()\n",
    "    _=lab_enc.fit(df[colname])\n",
    "    new_val = lab_enc.transform(df[colname])\n",
    "    _=df.loc[:, '{}_val'.format(colname)] = new_val"
   ]
  },
  {
   "cell_type": "markdown",
   "metadata": {},
   "source": [
    "### Processing Starts"
   ]
  },
  {
   "cell_type": "code",
   "execution_count": 7,
   "metadata": {},
   "outputs": [],
   "source": [
    "# filter out suspened, cancleed and live projects\n",
    "#Type of Action Taken* (1,6)** Yes (2,8,4) ** No (3,7)**denied (5)*****NA\n",
    "#df_selectdata_ML = pd.DataFrame()\n",
    "df_selectdata_ML=df_selectdata.apply(createResultCol,axis=1)"
   ]
  },
  {
   "cell_type": "code",
   "execution_count": 51,
   "metadata": {},
   "outputs": [
    {
     "name": "stdout",
     "output_type": "stream",
     "text": [
      "<class 'pandas.core.frame.DataFrame'>\n",
      "Int64Index: 31630026 entries, 0 to 49681\n",
      "Data columns (total 38 columns):\n",
      "Year                      int64\n",
      "LoanAmount                float64\n",
      "ActionType                float64\n",
      "MSA                       float64\n",
      "StateCode                 float64\n",
      "CountyCode                float64\n",
      "CoApplicantEthnicity      float64\n",
      "CoApplicantRace           float64\n",
      "CoApplicantSex            float64\n",
      "ApplicantIncome           float64\n",
      "PurchaserType             float64\n",
      "StateName                 object\n",
      "CountyName                object\n",
      "CLASSCODEFIPS             object\n",
      "Result                    int64\n",
      "ApplicantEthnicity_1.0    uint8\n",
      "ApplicantEthnicity_2.0    uint8\n",
      "ApplicantEthnicity_3.0    uint8\n",
      "ApplicantEthnicity_4.0    uint8\n",
      "ApplicantRace_1.0         uint8\n",
      "ApplicantRace_2.0         uint8\n",
      "ApplicantRace_3.0         uint8\n",
      "ApplicantRace_4.0         uint8\n",
      "ApplicantRace_5.0         uint8\n",
      "ApplicantRace_6.0         uint8\n",
      "ApplicantRace_7.0         uint8\n",
      "ApplicantSex_1.0          uint8\n",
      "ApplicantSex_2.0          uint8\n",
      "ApplicantSex_3.0          uint8\n",
      "ApplicantSex_4.0          uint8\n",
      "Occupancy_1.0             uint8\n",
      "Occupancy_2.0             uint8\n",
      "Occupancy_3.0             uint8\n",
      "PropertyType_1            uint8\n",
      "PropertyType_2            uint8\n",
      "LoanPurpose_1.0           uint8\n",
      "LoanPurpose_2.0           uint8\n",
      "LoanPurpose_3.0           uint8\n",
      "dtypes: float64(10), int64(2), object(3), uint8(23)\n",
      "memory usage: 4.4+ GB\n"
     ]
    }
   ],
   "source": [
    "df_selectdata_ML.info()"
   ]
  },
  {
   "cell_type": "code",
   "execution_count": 64,
   "metadata": {},
   "outputs": [
    {
     "name": "stdout",
     "output_type": "stream",
     "text": [
      "StateCode\n",
      "Add StateCode\n",
      "removed column StateCode\n"
     ]
    }
   ],
   "source": [
    "# Convert category columns to dummy columns=\n",
    "#df_selectdata_ML=df_selectdata\n",
    "categoryColumns=['StateCode','ApplicantEthnicity','ApplicantRace','ApplicantSex','Occupancy','PropertyType','LoanPurpose']\n",
    "for col in categoryColumns:\n",
    "    print(col)\n",
    "    df_selectdata_ML=AddDummyColumnsToDataFrame(df_selectdata_ML,col)\n",
    "\n",
    "#df_selectdata_ML.info()"
   ]
  },
  {
   "cell_type": "raw",
   "metadata": {},
   "source": [
    "df_selectdata_ML=df_selectdata_ML.drop(df_selectdata_ML.columns[15], axis=1)\n",
    "# df_selectdata_ML=df_selectdata_ML.drop(df_selectdata_ML.columns[16], axis=1)\n",
    "# df_selectdata_ML=df_selectdata_ML.drop(df_selectdata_ML.columns[17], axis=1)\n",
    "# df_selectdata_ML=df_selectdata_ML.drop(df_selectdata_ML.columns[18], axis=1)"
   ]
  },
  {
   "cell_type": "code",
   "execution_count": 60,
   "metadata": {},
   "outputs": [],
   "source": [
    "# Add column for salary\n",
    "\n",
    "df_selectdata_ML=df_selectdata_ML.assign(SAL_0_50=((df_selectdata_ML['ApplicantIncome']>0) & (df_selectdata_ML['ApplicantIncome']<=50)))\n",
    "df_selectdata_ML=df_selectdata_ML.assign(SAL_50_100=((df_selectdata_ML['ApplicantIncome']>50) & (df_selectdata_ML['ApplicantIncome']<=100)))\n",
    "df_selectdata_ML=df_selectdata_ML.assign(SAL_100_150=((df_selectdata_ML['ApplicantIncome']>100) & (df_selectdata_ML['ApplicantIncome']<=150)))\n",
    "df_selectdata_ML=df_selectdata_ML.assign(SAL_150_200=((df_selectdata_ML['ApplicantIncome']>150) & (df_selectdata_ML['ApplicantIncome']<=200)))\n",
    "df_selectdata_ML=df_selectdata_ML.assign(SAL_200_250=((df_selectdata_ML['ApplicantIncome']>200) & (df_selectdata_ML['ApplicantIncome']<=250)))\n",
    "df_selectdata_ML=df_selectdata_ML.assign(SAL_250_300=((df_selectdata_ML['ApplicantIncome']>250) & (df_selectdata_ML['ApplicantIncome']<=300)))\n",
    "df_selectdata_ML=df_selectdata_ML.assign(SAL_300_350=((df_selectdata_ML['ApplicantIncome']>300) & (df_selectdata_ML['ApplicantIncome']<=350)))\n",
    "df_selectdata_ML=df_selectdata_ML.assign(SAL_350_400=((df_selectdata_ML['ApplicantIncome']>350) & (df_selectdata_ML['ApplicantIncome']<=400)))\n",
    "df_selectdata_ML=df_selectdata_ML.assign(SAL_400_450=((df_selectdata_ML['ApplicantIncome']>400) & (df_selectdata_ML['ApplicantIncome']<=450)))\n",
    "df_selectdata_ML=df_selectdata_ML.assign(SAL_450_500=((df_selectdata_ML['ApplicantIncome']>450) & (df_selectdata_ML['ApplicantIncome']<=500)))\n",
    "df_selectdata_ML=df_selectdata_ML.assign(SAL_500_5500=((df_selectdata_ML['ApplicantIncome']>500) & (df_selectdata_ML['ApplicantIncome']<=5500)))\n",
    "df_selectdata_ML=df_selectdata_ML.assign(SAL_5500_999999=((df_selectdata_ML['ApplicantIncome']>5500) & (df_selectdata_ML['ApplicantIncome']<=999999)))\n"
   ]
  },
  {
   "cell_type": "code",
   "execution_count": 66,
   "metadata": {},
   "outputs": [],
   "source": [
    "# Add column for loan amount\n",
    "df_selectdata_ML=df_selectdata_ML.assign(LonAmt_0_50=((df_selectdata_ML['LoanAmount']>0) & (df_selectdata_ML['LoanAmount']<=50)))\n",
    "df_selectdata_ML=df_selectdata_ML.assign(LonAmt_50_100=((df_selectdata_ML['LoanAmount']>50) & (df_selectdata_ML['LoanAmount']<=100)))\n",
    "df_selectdata_ML=df_selectdata_ML.assign(LonAmt_100_150=((df_selectdata_ML['LoanAmount']>100) & (df_selectdata_ML['LoanAmount']<=150)))\n",
    "df_selectdata_ML=df_selectdata_ML.assign(LonAmt_150_200=((df_selectdata_ML['LoanAmount']>150) & (df_selectdata_ML['LoanAmount']<=200)))\n",
    "df_selectdata_ML=df_selectdata_ML.assign(LonAmt_200_250=((df_selectdata_ML['LoanAmount']>200) & (df_selectdata_ML['LoanAmount']<=250)))\n",
    "df_selectdata_ML=df_selectdata_ML.assign(LonAmt_250_300=((df_selectdata_ML['LoanAmount']>250) & (df_selectdata_ML['LoanAmount']<=300)))\n",
    "df_selectdata_ML=df_selectdata_ML.assign(LonAmt_300_350=((df_selectdata_ML['LoanAmount']>300) & (df_selectdata_ML['LoanAmount']<=350)))\n",
    "df_selectdata_ML=df_selectdata_ML.assign(LonAmt_350_400=((df_selectdata_ML['LoanAmount']>350) & (df_selectdata_ML['LoanAmount']<=400)))\n",
    "df_selectdata_ML=df_selectdata_ML.assign(LonAmt_400_450=((df_selectdata_ML['LoanAmount']>400) & (df_selectdata_ML['LoanAmount']<=450)))\n",
    "df_selectdata_ML=df_selectdata_ML.assign(LonAmt_450_500=((df_selectdata_ML['LoanAmount']>450) & (df_selectdata_ML['LoanAmount']<=500)))\n",
    "df_selectdata_ML=df_selectdata_ML.assign(LonAmt_500_5500=((df_selectdata_ML['LoanAmount']>500) & (df_selectdata_ML['LoanAmount']<=5500)))\n",
    "df_selectdata_ML=df_selectdata_ML.assign(LonAmt_5500_999999=((df_selectdata_ML['LoanAmount']>5500) & (df_selectdata_ML['LoanAmount']<=999999)))"
   ]
  },
  {
   "cell_type": "code",
   "execution_count": 67,
   "metadata": {},
   "outputs": [
    {
     "name": "stdout",
     "output_type": "stream",
     "text": [
      "<class 'pandas.core.frame.DataFrame'>\n",
      "Int64Index: 31630026 entries, 0 to 49681\n",
      "Columns: 114 entries, Year to LonAmt_5500_999999\n",
      "dtypes: bool(24), float64(9), int64(2), object(3), uint8(76)\n",
      "memory usage: 6.5+ GB\n"
     ]
    }
   ],
   "source": [
    "df_selectdata_ML.info()"
   ]
  },
  {
   "cell_type": "code",
   "execution_count": 69,
   "metadata": {},
   "outputs": [],
   "source": [
    "df_selectdata_ML_sel=df_selectdata_ML.iloc[:,13:]"
   ]
  },
  {
   "cell_type": "raw",
   "metadata": {},
   "source": [
    "for col in df_selectdata_ML_sel:\n",
    "    print(col)"
   ]
  },
  {
   "cell_type": "code",
   "execution_count": 71,
   "metadata": {},
   "outputs": [
    {
     "name": "stdout",
     "output_type": "stream",
     "text": [
      "df_selectdata_ML.sa\n"
     ]
    }
   ],
   "source": [
    "#df_selecteddata.info()\n",
    "picklefilename='df_selectdata_ML.sa'\n",
    "# get the pickle file name to re confirm the previous files are not overriden.\n",
    "# Note: Run this file after confimring succesful completion of all above steps\n",
    "print(picklefilename)\n",
    "# create pickle file for further use \n",
    "pickle.dump(df_selectdata_ML_sel,open(picklefilename,'wb'), protocol=4)"
   ]
  }
 ],
 "metadata": {
  "kernelspec": {
   "display_name": "Python 3",
   "language": "python",
   "name": "python3"
  },
  "language_info": {
   "codemirror_mode": {
    "name": "ipython",
    "version": 3
   },
   "file_extension": ".py",
   "mimetype": "text/x-python",
   "name": "python",
   "nbconvert_exporter": "python",
   "pygments_lexer": "ipython3",
   "version": "3.6.5"
  }
 },
 "nbformat": 4,
 "nbformat_minor": 2
}
