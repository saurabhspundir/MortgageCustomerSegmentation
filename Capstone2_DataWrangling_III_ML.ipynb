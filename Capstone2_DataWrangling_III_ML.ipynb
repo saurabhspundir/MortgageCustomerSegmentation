{
 "cells": [
  {
   "cell_type": "code",
   "execution_count": 1,
   "metadata": {},
   "outputs": [],
   "source": [
    "import numpy as np\n",
    "import pandas as pd\n",
    "import pickle\n",
    "import datetime"
   ]
  },
  {
   "cell_type": "markdown",
   "metadata": {},
   "source": [
    "<div class=\"span5 alert alert-info\">\n",
    "<h2>Notebook details</h2>\n",
    "\n",
    "<p> This notebook is for <b>data wranging for Machine learning</b> for <b>Mortagage customer segementation</b> project.</p>\n",
    "\n",
    "<p> Notes.</p>\n",
    "<ol>\n",
    "<li>Extract all the required columns into dummy</li>\n",
    "<li>Extract the salary and loan amount column in dummy range columns </li>\n",
    "<li>Create new column accepted based on application accepted or denied by applicants</li>\n",
    "<li> Extract data into 2 pickle files\n",
    "    <ul>\n",
    "     <li>File with income and loan amount as the individual columns </li>\n",
    "     <li>File with income and loan amount as the range based dummy columns </li>\n",
    "    </ul>\n",
    "</li>        \n",
    "</ol>\n",
    "</div>"
   ]
  },
  {
   "cell_type": "code",
   "execution_count": 2,
   "metadata": {},
   "outputs": [],
   "source": [
    "# setting some initial values and reading data from pickle file\n",
    "pd.set_option('display.max_colwidth', -1)\n",
    "pickle_file='df_selectdata_hmda_cenus.sa'\n",
    "df_selectdata_ML = pickle.load( open( pickle_file, \"rb\" ) )\n",
    "#df_final_months.info()\n",
    "#df_final_months.head()"
   ]
  },
  {
   "cell_type": "code",
   "execution_count": 3,
   "metadata": {},
   "outputs": [
    {
     "name": "stdout",
     "output_type": "stream",
     "text": [
      "<class 'pandas.core.frame.DataFrame'>\n",
      "Int64Index: 31630026 entries, 0 to 49681\n",
      "Data columns (total 21 columns):\n",
      "Year                    int64\n",
      "PropertyType            int64\n",
      "LoanPurpose             float64\n",
      "Occupancy               float64\n",
      "LoanAmount              float64\n",
      "ActionType              float64\n",
      "MSA                     float64\n",
      "StateCode               float64\n",
      "CountyCode              float64\n",
      "ApplicantEthnicity      float64\n",
      "CoApplicantEthnicity    float64\n",
      "ApplicantRace           float64\n",
      "CoApplicantRace         float64\n",
      "ApplicantSex            float64\n",
      "CoApplicantSex          float64\n",
      "ApplicantIncome         float64\n",
      "PurchaserType           float64\n",
      "StateName               object\n",
      "CountyName              object\n",
      "CLASSCODEFIPS           object\n",
      "Result                  int64\n",
      "dtypes: float64(15), int64(3), object(3)\n",
      "memory usage: 5.2+ GB\n"
     ]
    }
   ],
   "source": [
    "df_selectdata_ML.info()"
   ]
  },
  {
   "cell_type": "markdown",
   "metadata": {},
   "source": [
    "## Helper methods"
   ]
  },
  {
   "cell_type": "code",
   "execution_count": 4,
   "metadata": {},
   "outputs": [],
   "source": [
    "# Method to convert the category column into dummy columns \n",
    "def AddDummyColumnsToDataFrame(dfinput,colname,removelastdummy=False):\n",
    "    print('Add {}'.format(colname))\n",
    "    temp =pd.get_dummies(dfinput[colname])\n",
    "    # remove one column from dummies with least value.\n",
    "  \n",
    "    if removelastdummy:\n",
    "        t=dfinput.groupby(colname).count().state\n",
    "        col_name=((t[t.values==t.min()]).index).get_values()[0]\n",
    "        if col_name in temp.columns:\n",
    "            print('removed column {}'.format(col_name))\n",
    "            temp=temp.drop([col_name], axis=1)\n",
    "    \n",
    "    # remove the main column after extracting dummy\n",
    "    if colname in dfinput.columns:\n",
    "        print('removed column {}'.format(colname))\n",
    "        dfinput =dfinput.drop([colname], axis=1)\n",
    "    for col in temp:\n",
    "        temp.rename(columns={col: colname+'_'+str(col)}, inplace=True)\n",
    "    \n",
    "    return  pd.concat([dfinput,temp], axis=1,ignore_index=False)"
   ]
  },
  {
   "cell_type": "code",
   "execution_count": 5,
   "metadata": {},
   "outputs": [],
   "source": [
    "# Method to create column value based on applicant accepted or rejected loan application\n",
    "def createResultCol(row):\n",
    "    if (row.ActionType==1 ):\n",
    "        row.Accepted=1\n",
    "    elif (row.ActionType==2 ):\n",
    "        row.Accepted=0\n",
    "    elif (row.ActionType==3 ):\n",
    "        row.Accepted=-1\n",
    "    elif (row.ActionType==4 ):\n",
    "        row.Accepted=0        \n",
    "    elif (row.ActionType==5 ):\n",
    "        row.Accepted=np.NAN\n",
    "    elif (row.ActionType==6 ):\n",
    "        row.Accepted=1\n",
    "    elif (row.ActionType==7 ):\n",
    "        row.Accepted=-1\n",
    "    elif (row.ActionType==8 ):\n",
    "        row.Accepted=0        \n",
    "    else:\n",
    "        row.Accepted=np.NAN\n",
    "    return row"
   ]
  },
  {
   "cell_type": "code",
   "execution_count": 6,
   "metadata": {},
   "outputs": [],
   "source": [
    "# To reduce the size of data set and allow the code to analyze cluster in each state the data frame filtered by State\n",
    "def getDataFrameforState(inputframe,stateName='CA'):\n",
    "    df=inputframe[inputframe.StateName==stateName]\n",
    "    df=df[df.Accepted>0]\n",
    "    # create index in wrangling\n",
    "    #df = df.reset_index()\n",
    "    return df"
   ]
  },
  {
   "cell_type": "markdown",
   "metadata": {},
   "source": [
    "### Processing Starts"
   ]
  },
  {
   "cell_type": "markdown",
   "metadata": {},
   "source": [
    "####  With category starts here"
   ]
  },
  {
   "cell_type": "raw",
   "metadata": {},
   "source": [
    "#this only is above result is not extracted\n",
    "df_selectdata_ML=df_selectdata#.iloc[:,13:]"
   ]
  },
  {
   "cell_type": "code",
   "execution_count": 7,
   "metadata": {},
   "outputs": [],
   "source": [
    "_=df_selectdata_ML.reset_index(inplace = True)"
   ]
  },
  {
   "cell_type": "code",
   "execution_count": 8,
   "metadata": {},
   "outputs": [
    {
     "data": {
      "text/html": [
       "<div>\n",
       "<style scoped>\n",
       "    .dataframe tbody tr th:only-of-type {\n",
       "        vertical-align: middle;\n",
       "    }\n",
       "\n",
       "    .dataframe tbody tr th {\n",
       "        vertical-align: top;\n",
       "    }\n",
       "\n",
       "    .dataframe thead th {\n",
       "        text-align: right;\n",
       "    }\n",
       "</style>\n",
       "<table border=\"1\" class=\"dataframe\">\n",
       "  <thead>\n",
       "    <tr style=\"text-align: right;\">\n",
       "      <th></th>\n",
       "      <th>index</th>\n",
       "      <th>Year</th>\n",
       "      <th>PropertyType</th>\n",
       "      <th>LoanPurpose</th>\n",
       "      <th>Occupancy</th>\n",
       "      <th>LoanAmount</th>\n",
       "      <th>ActionType</th>\n",
       "      <th>MSA</th>\n",
       "      <th>StateCode</th>\n",
       "      <th>CountyCode</th>\n",
       "      <th>...</th>\n",
       "      <th>ApplicantRace</th>\n",
       "      <th>CoApplicantRace</th>\n",
       "      <th>ApplicantSex</th>\n",
       "      <th>CoApplicantSex</th>\n",
       "      <th>ApplicantIncome</th>\n",
       "      <th>PurchaserType</th>\n",
       "      <th>StateName</th>\n",
       "      <th>CountyName</th>\n",
       "      <th>CLASSCODEFIPS</th>\n",
       "      <th>Result</th>\n",
       "    </tr>\n",
       "  </thead>\n",
       "  <tbody>\n",
       "    <tr>\n",
       "      <th>0</th>\n",
       "      <td>0</td>\n",
       "      <td>2015</td>\n",
       "      <td>1</td>\n",
       "      <td>3.0</td>\n",
       "      <td>1.0</td>\n",
       "      <td>222.0</td>\n",
       "      <td>3.0</td>\n",
       "      <td>11260.0</td>\n",
       "      <td>2.0</td>\n",
       "      <td>170.0</td>\n",
       "      <td>...</td>\n",
       "      <td>5.0</td>\n",
       "      <td>8.0</td>\n",
       "      <td>1.0</td>\n",
       "      <td>5.0</td>\n",
       "      <td>115.0</td>\n",
       "      <td>0.0</td>\n",
       "      <td>AK</td>\n",
       "      <td>Matanuska-Susitna Borough</td>\n",
       "      <td>H1</td>\n",
       "      <td>0</td>\n",
       "    </tr>\n",
       "    <tr>\n",
       "      <th>1</th>\n",
       "      <td>1</td>\n",
       "      <td>2015</td>\n",
       "      <td>1</td>\n",
       "      <td>3.0</td>\n",
       "      <td>2.0</td>\n",
       "      <td>188.0</td>\n",
       "      <td>3.0</td>\n",
       "      <td>11260.0</td>\n",
       "      <td>2.0</td>\n",
       "      <td>170.0</td>\n",
       "      <td>...</td>\n",
       "      <td>5.0</td>\n",
       "      <td>8.0</td>\n",
       "      <td>1.0</td>\n",
       "      <td>5.0</td>\n",
       "      <td>115.0</td>\n",
       "      <td>0.0</td>\n",
       "      <td>AK</td>\n",
       "      <td>Matanuska-Susitna Borough</td>\n",
       "      <td>H1</td>\n",
       "      <td>0</td>\n",
       "    </tr>\n",
       "    <tr>\n",
       "      <th>2</th>\n",
       "      <td>2</td>\n",
       "      <td>2015</td>\n",
       "      <td>1</td>\n",
       "      <td>3.0</td>\n",
       "      <td>2.0</td>\n",
       "      <td>216.0</td>\n",
       "      <td>1.0</td>\n",
       "      <td>11260.0</td>\n",
       "      <td>2.0</td>\n",
       "      <td>20.0</td>\n",
       "      <td>...</td>\n",
       "      <td>5.0</td>\n",
       "      <td>8.0</td>\n",
       "      <td>1.0</td>\n",
       "      <td>5.0</td>\n",
       "      <td>230.0</td>\n",
       "      <td>7.0</td>\n",
       "      <td>AK</td>\n",
       "      <td>Anchorage Municipality</td>\n",
       "      <td>H6</td>\n",
       "      <td>1</td>\n",
       "    </tr>\n",
       "    <tr>\n",
       "      <th>3</th>\n",
       "      <td>3</td>\n",
       "      <td>2015</td>\n",
       "      <td>1</td>\n",
       "      <td>3.0</td>\n",
       "      <td>1.0</td>\n",
       "      <td>219.0</td>\n",
       "      <td>1.0</td>\n",
       "      <td>11260.0</td>\n",
       "      <td>2.0</td>\n",
       "      <td>170.0</td>\n",
       "      <td>...</td>\n",
       "      <td>5.0</td>\n",
       "      <td>8.0</td>\n",
       "      <td>1.0</td>\n",
       "      <td>5.0</td>\n",
       "      <td>145.0</td>\n",
       "      <td>1.0</td>\n",
       "      <td>AK</td>\n",
       "      <td>Matanuska-Susitna Borough</td>\n",
       "      <td>H1</td>\n",
       "      <td>1</td>\n",
       "    </tr>\n",
       "    <tr>\n",
       "      <th>4</th>\n",
       "      <td>4</td>\n",
       "      <td>2015</td>\n",
       "      <td>1</td>\n",
       "      <td>3.0</td>\n",
       "      <td>2.0</td>\n",
       "      <td>188.0</td>\n",
       "      <td>1.0</td>\n",
       "      <td>11260.0</td>\n",
       "      <td>2.0</td>\n",
       "      <td>170.0</td>\n",
       "      <td>...</td>\n",
       "      <td>5.0</td>\n",
       "      <td>8.0</td>\n",
       "      <td>1.0</td>\n",
       "      <td>5.0</td>\n",
       "      <td>145.0</td>\n",
       "      <td>1.0</td>\n",
       "      <td>AK</td>\n",
       "      <td>Matanuska-Susitna Borough</td>\n",
       "      <td>H1</td>\n",
       "      <td>1</td>\n",
       "    </tr>\n",
       "  </tbody>\n",
       "</table>\n",
       "<p>5 rows × 22 columns</p>\n",
       "</div>"
      ],
      "text/plain": [
       "   index  Year  PropertyType  LoanPurpose  Occupancy  LoanAmount  ActionType  \\\n",
       "0  0      2015  1             3.0          1.0        222.0       3.0          \n",
       "1  1      2015  1             3.0          2.0        188.0       3.0          \n",
       "2  2      2015  1             3.0          2.0        216.0       1.0          \n",
       "3  3      2015  1             3.0          1.0        219.0       1.0          \n",
       "4  4      2015  1             3.0          2.0        188.0       1.0          \n",
       "\n",
       "       MSA  StateCode  CountyCode  ...    ApplicantRace  CoApplicantRace  \\\n",
       "0  11260.0  2.0        170.0       ...    5.0            8.0               \n",
       "1  11260.0  2.0        170.0       ...    5.0            8.0               \n",
       "2  11260.0  2.0        20.0        ...    5.0            8.0               \n",
       "3  11260.0  2.0        170.0       ...    5.0            8.0               \n",
       "4  11260.0  2.0        170.0       ...    5.0            8.0               \n",
       "\n",
       "   ApplicantSex  CoApplicantSex  ApplicantIncome  PurchaserType  StateName  \\\n",
       "0  1.0           5.0             115.0            0.0            AK          \n",
       "1  1.0           5.0             115.0            0.0            AK          \n",
       "2  1.0           5.0             230.0            7.0            AK          \n",
       "3  1.0           5.0             145.0            1.0            AK          \n",
       "4  1.0           5.0             145.0            1.0            AK          \n",
       "\n",
       "                  CountyName CLASSCODEFIPS Result  \n",
       "0  Matanuska-Susitna Borough  H1            0      \n",
       "1  Matanuska-Susitna Borough  H1            0      \n",
       "2  Anchorage Municipality     H6            1      \n",
       "3  Matanuska-Susitna Borough  H1            1      \n",
       "4  Matanuska-Susitna Borough  H1            1      \n",
       "\n",
       "[5 rows x 22 columns]"
      ]
     },
     "execution_count": 8,
     "metadata": {},
     "output_type": "execute_result"
    }
   ],
   "source": [
    "df_selectdata_ML.head(5)"
   ]
  },
  {
   "cell_type": "code",
   "execution_count": 9,
   "metadata": {},
   "outputs": [
    {
     "name": "stdout",
     "output_type": "stream",
     "text": [
      "2018-07-08 10:14:26.350261\n",
      "2018-07-08 11:29:26.113986\n"
     ]
    }
   ],
   "source": [
    "# filter out suspened, cancelled and live projects\n",
    "#Type of Action Taken* (1,6)** Yes (2,8,4) ** No (3,7)**denied (5)*****NA\n",
    "print(str(datetime.datetime.now()))\n",
    "df_selectdata_ML['Accepted']=0\n",
    "df_selectdata_ML=df_selectdata_ML.apply(createResultCol,axis=1)\n",
    "print(str(datetime.datetime.now()))"
   ]
  },
  {
   "cell_type": "code",
   "execution_count": 10,
   "metadata": {},
   "outputs": [
    {
     "name": "stdout",
     "output_type": "stream",
     "text": [
      "StateCode\n",
      "Add StateCode\n",
      "removed column StateCode\n",
      "ApplicantEthnicity\n",
      "Add ApplicantEthnicity\n",
      "removed column ApplicantEthnicity\n",
      "ApplicantRace\n",
      "Add ApplicantRace\n",
      "removed column ApplicantRace\n",
      "ApplicantSex\n",
      "Add ApplicantSex\n",
      "removed column ApplicantSex\n",
      "Occupancy\n",
      "Add Occupancy\n",
      "removed column Occupancy\n",
      "PropertyType\n",
      "Add PropertyType\n",
      "removed column PropertyType\n",
      "LoanPurpose\n",
      "Add LoanPurpose\n",
      "removed column LoanPurpose\n"
     ]
    }
   ],
   "source": [
    "# Convert category columns to dummy columns=\n",
    "#df_selectdata_ML=df_selectdata\n",
    "categoryColumns=['StateCode','ApplicantEthnicity','ApplicantRace','ApplicantSex','Occupancy','PropertyType','LoanPurpose']\n",
    "for col in categoryColumns:\n",
    "    print(col)\n",
    "    df_selectdata_ML=AddDummyColumnsToDataFrame(df_selectdata_ML,col)"
   ]
  },
  {
   "cell_type": "code",
   "execution_count": 11,
   "metadata": {},
   "outputs": [],
   "source": [
    "# Add column for loan amount\n",
    "df_selectdata_ML=df_selectdata_ML.assign(SAL_0_50=((df_selectdata_ML['ApplicantIncome']>0) & (df_selectdata_ML['ApplicantIncome']<=50)))\n",
    "df_selectdata_ML=df_selectdata_ML.assign(SAL_50_100=((df_selectdata_ML['ApplicantIncome']>50) & (df_selectdata_ML['ApplicantIncome']<=100)))\n",
    "df_selectdata_ML=df_selectdata_ML.assign(SAL_100_150=((df_selectdata_ML['ApplicantIncome']>100) & (df_selectdata_ML['ApplicantIncome']<=150)))\n",
    "df_selectdata_ML=df_selectdata_ML.assign(SAL_150_200=((df_selectdata_ML['ApplicantIncome']>150) & (df_selectdata_ML['ApplicantIncome']<=200)))\n",
    "df_selectdata_ML=df_selectdata_ML.assign(SAL_200_250=((df_selectdata_ML['ApplicantIncome']>200) & (df_selectdata_ML['ApplicantIncome']<=250)))\n",
    "df_selectdata_ML=df_selectdata_ML.assign(SAL_250_300=((df_selectdata_ML['ApplicantIncome']>250) & (df_selectdata_ML['ApplicantIncome']<=300)))\n",
    "df_selectdata_ML=df_selectdata_ML.assign(SAL_300_350=((df_selectdata_ML['ApplicantIncome']>300) & (df_selectdata_ML['ApplicantIncome']<=350)))\n",
    "df_selectdata_ML=df_selectdata_ML.assign(SAL_350_400=((df_selectdata_ML['ApplicantIncome']>350) & (df_selectdata_ML['ApplicantIncome']<=400)))\n",
    "df_selectdata_ML=df_selectdata_ML.assign(SAL_400_450=((df_selectdata_ML['ApplicantIncome']>400) & (df_selectdata_ML['ApplicantIncome']<=450)))\n",
    "df_selectdata_ML=df_selectdata_ML.assign(SAL_450_500=((df_selectdata_ML['ApplicantIncome']>450) & (df_selectdata_ML['ApplicantIncome']<=500)))\n",
    "df_selectdata_ML=df_selectdata_ML.assign(SAL_500_5500=((df_selectdata_ML['ApplicantIncome']>500) & (df_selectdata_ML['ApplicantIncome']<=5500)))\n",
    "df_selectdata_ML=df_selectdata_ML.assign(SAL_5500_999999=((df_selectdata_ML['ApplicantIncome']>5500) & (df_selectdata_ML['ApplicantIncome']<=999999)))"
   ]
  },
  {
   "cell_type": "code",
   "execution_count": 12,
   "metadata": {},
   "outputs": [],
   "source": [
    "df_selectdata_ML['SAL_0_50'] = (df_selectdata_ML['SAL_0_50'] == True).astype(int)\n",
    "df_selectdata_ML['SAL_50_100'] = (df_selectdata_ML['SAL_50_100'] == True).astype(int)\n",
    "df_selectdata_ML['SAL_100_150'] = (df_selectdata_ML['SAL_100_150'] == True).astype(int)\n",
    "df_selectdata_ML['SAL_150_200'] = (df_selectdata_ML['SAL_150_200'] == True).astype(int)\n",
    "df_selectdata_ML['SAL_200_250'] = (df_selectdata_ML['SAL_200_250'] == True).astype(int)\n",
    "df_selectdata_ML['SAL_250_300'] = (df_selectdata_ML['SAL_250_300'] == True).astype(int)\n",
    "df_selectdata_ML['SAL_300_350'] = (df_selectdata_ML['SAL_300_350'] == True).astype(int)\n",
    "df_selectdata_ML['SAL_350_400'] = (df_selectdata_ML['SAL_350_400'] == True).astype(int)\n",
    "df_selectdata_ML['SAL_400_450'] = (df_selectdata_ML['SAL_400_450'] == True).astype(int)\n",
    "df_selectdata_ML['SAL_450_500'] = (df_selectdata_ML['SAL_450_500'] == True).astype(int)\n",
    "df_selectdata_ML['SAL_500_5500'] = (df_selectdata_ML['SAL_500_5500'] == True).astype(int)\n",
    "df_selectdata_ML['SAL_5500_999999'] = (df_selectdata_ML['SAL_5500_999999'] == True).astype(int)"
   ]
  },
  {
   "cell_type": "code",
   "execution_count": 13,
   "metadata": {},
   "outputs": [],
   "source": [
    "# Add column for loan amount\n",
    "df_selectdata_ML=df_selectdata_ML.assign(LonAmt_0_50=((df_selectdata_ML['LoanAmount']>0) & (df_selectdata_ML['LoanAmount']<=50)))\n",
    "df_selectdata_ML=df_selectdata_ML.assign(LonAmt_50_100=((df_selectdata_ML['LoanAmount']>50) & (df_selectdata_ML['LoanAmount']<=100)))\n",
    "df_selectdata_ML=df_selectdata_ML.assign(LonAmt_100_150=((df_selectdata_ML['LoanAmount']>100) & (df_selectdata_ML['LoanAmount']<=150)))\n",
    "df_selectdata_ML=df_selectdata_ML.assign(LonAmt_150_200=((df_selectdata_ML['LoanAmount']>150) & (df_selectdata_ML['LoanAmount']<=200)))\n",
    "df_selectdata_ML=df_selectdata_ML.assign(LonAmt_200_250=((df_selectdata_ML['LoanAmount']>200) & (df_selectdata_ML['LoanAmount']<=250)))\n",
    "df_selectdata_ML=df_selectdata_ML.assign(LonAmt_250_300=((df_selectdata_ML['LoanAmount']>250) & (df_selectdata_ML['LoanAmount']<=300)))\n",
    "df_selectdata_ML=df_selectdata_ML.assign(LonAmt_300_350=((df_selectdata_ML['LoanAmount']>300) & (df_selectdata_ML['LoanAmount']<=350)))\n",
    "df_selectdata_ML=df_selectdata_ML.assign(LonAmt_350_400=((df_selectdata_ML['LoanAmount']>350) & (df_selectdata_ML['LoanAmount']<=400)))\n",
    "df_selectdata_ML=df_selectdata_ML.assign(LonAmt_400_450=((df_selectdata_ML['LoanAmount']>400) & (df_selectdata_ML['LoanAmount']<=450)))\n",
    "df_selectdata_ML=df_selectdata_ML.assign(LonAmt_450_500=((df_selectdata_ML['LoanAmount']>450) & (df_selectdata_ML['LoanAmount']<=500)))\n",
    "df_selectdata_ML=df_selectdata_ML.assign(LonAmt_500_5500=((df_selectdata_ML['LoanAmount']>500) & (df_selectdata_ML['LoanAmount']<=5500)))\n",
    "df_selectdata_ML=df_selectdata_ML.assign(LonAmt_5500_999999=((df_selectdata_ML['LoanAmount']>5500) & (df_selectdata_ML['LoanAmount']<=999999)))"
   ]
  },
  {
   "cell_type": "code",
   "execution_count": 14,
   "metadata": {},
   "outputs": [],
   "source": [
    "df_selectdata_ML['LonAmt_0_50'] = (df_selectdata_ML['LonAmt_0_50'] == True).astype(int)\n",
    "df_selectdata_ML['LonAmt_50_100'] = (df_selectdata_ML['LonAmt_50_100'] == True).astype(int)\n",
    "df_selectdata_ML['LonAmt_100_150'] = (df_selectdata_ML['LonAmt_100_150'] == True).astype(int)\n",
    "df_selectdata_ML['LonAmt_150_200'] = (df_selectdata_ML['LonAmt_150_200'] == True).astype(int)\n",
    "df_selectdata_ML['LonAmt_200_250'] = (df_selectdata_ML['LonAmt_200_250'] == True).astype(int)\n",
    "df_selectdata_ML['LonAmt_250_300'] = (df_selectdata_ML['LonAmt_250_300'] == True).astype(int)\n",
    "df_selectdata_ML['LonAmt_300_350'] = (df_selectdata_ML['LonAmt_300_350'] == True).astype(int)\n",
    "df_selectdata_ML['LonAmt_350_400'] = (df_selectdata_ML['LonAmt_350_400'] == True).astype(int)\n",
    "df_selectdata_ML['LonAmt_400_450'] = (df_selectdata_ML['LonAmt_400_450'] == True).astype(int)\n",
    "df_selectdata_ML['LonAmt_450_500'] = (df_selectdata_ML['LonAmt_450_500'] == True).astype(int)\n",
    "df_selectdata_ML['LonAmt_500_5500'] = (df_selectdata_ML['LonAmt_500_5500'] == True).astype(int)\n",
    "df_selectdata_ML['LonAmt_5500_999999'] = (df_selectdata_ML['LonAmt_5500_999999'] == True).astype(int)"
   ]
  },
  {
   "cell_type": "code",
   "execution_count": 15,
   "metadata": {},
   "outputs": [
    {
     "name": "stdout",
     "output_type": "stream",
     "text": [
      "<class 'pandas.core.frame.DataFrame'>\n",
      "RangeIndex: 31630026 entries, 0 to 31630025\n",
      "Columns: 116 entries, index to LonAmt_5500_999999\n",
      "dtypes: float64(9), int32(24), int64(4), object(3), uint8(76)\n",
      "memory usage: 8.8+ GB\n"
     ]
    }
   ],
   "source": [
    "df_selectdata_ML.info()"
   ]
  },
  {
   "cell_type": "code",
   "execution_count": 17,
   "metadata": {},
   "outputs": [
    {
     "name": "stdout",
     "output_type": "stream",
     "text": [
      "pickle_selectdata_ML_All_Col.sa\n"
     ]
    }
   ],
   "source": [
    "#df_selecteddata.info()\n",
    "picklefilename='pickle_selectdata_ML_All_Col.sa'\n",
    "# get the pickle file name to re confirm the previous files are not overriden.\n",
    "# Note: Run this file after confimring succesful completion of all above steps\n",
    "print(picklefilename)\n",
    "# create pickle file for further use \n",
    "pickle.dump(df_selectdata_ML,open(picklefilename,'wb'), protocol=4)"
   ]
  },
  {
   "cell_type": "code",
   "execution_count": 18,
   "metadata": {},
   "outputs": [],
   "source": [
    "# Get only for CA only\n",
    "df_selectdata_ML_sel_CA=getDataFrameforState(df_selectdata_ML,'CA')"
   ]
  },
  {
   "cell_type": "code",
   "execution_count": 19,
   "metadata": {},
   "outputs": [
    {
     "name": "stdout",
     "output_type": "stream",
     "text": [
      "pickle_selectdata_ML_All_Col_CA.sa\n"
     ]
    }
   ],
   "source": [
    "#df_selecteddata.info()\n",
    "picklefilename='pickle_selectdata_ML_All_Col_CA.sa'\n",
    "# get the pickle file name to re confirm the previous files are not overriden.\n",
    "# Note: Run this file after confimring succesful completion of all above steps\n",
    "print(picklefilename)\n",
    "# create pickle file for further use \n",
    "pickle.dump(df_selectdata_ML_sel_CA,open(picklefilename,'wb'), protocol=4)"
   ]
  },
  {
   "cell_type": "raw",
   "metadata": {},
   "source": [
    "df_selectdata_ML_sel=df_selectdata_ML#.iloc[:,13:]"
   ]
  },
  {
   "cell_type": "raw",
   "metadata": {},
   "source": [
    "df_selectdata_ML_sel=df_selectdata_ML_sel.drop('CoApplicantEthnicity',axis=1)\n",
    "df_selectdata_ML_sel=df_selectdata_ML_sel.drop('CoApplicantRace',axis=1)\n",
    "df_selectdata_ML_sel=df_selectdata_ML_sel.drop('CoApplicantSex',axis=1)\n",
    "df_selectdata_ML_sel=df_selectdata_ML_sel.drop('CLASSCODEFIPS',axis=1)\n",
    "#df_selectdata_ML_sel=df_selectdata_ML_sel.drop('ActionType',axis=1)\n",
    "df_selectdata_ML_sel=df_selectdata_ML_sel.drop('MSA',axis=1)"
   ]
  },
  {
   "cell_type": "code",
   "execution_count": null,
   "metadata": {},
   "outputs": [],
   "source": [
    "df_selectdata_ML_sel=df_selectdata_ML_sel.loc[:,['Year',\n",
    "'CountyCode',\n",
    "'PurchaserType',\n",
    "'StateName',\n",
    "'CountyName',\n",
    "'Result',\n",
    "'Accepted',\n",
    "'StateCode_1.0',\n",
    "'StateCode_2.0',\n",
    "'StateCode_4.0',\n",
    "'StateCode_5.0',\n",
    "'StateCode_6.0',\n",
    "'StateCode_8.0',\n",
    "'StateCode_9.0',\n",
    "'StateCode_10.0',\n",
    "'StateCode_11.0',\n",
    "'StateCode_12.0',\n",
    "'StateCode_13.0',\n",
    "'StateCode_15.0',\n",
    "'StateCode_16.0',\n",
    "'StateCode_17.0',\n",
    "'StateCode_18.0',\n",
    "'StateCode_19.0',\n",
    "'StateCode_20.0',\n",
    "'StateCode_21.0',\n",
    "'StateCode_22.0',\n",
    "'StateCode_23.0',\n",
    "'StateCode_24.0',\n",
    "'StateCode_25.0',\n",
    "'StateCode_26.0',\n",
    "'StateCode_27.0',\n",
    "'StateCode_28.0',\n",
    "'StateCode_29.0',\n",
    "'StateCode_30.0',\n",
    "'StateCode_31.0',\n",
    "'StateCode_32.0',\n",
    "'StateCode_33.0',\n",
    "'StateCode_34.0',\n",
    "'StateCode_35.0',\n",
    "'StateCode_36.0',\n",
    "'StateCode_37.0',\n",
    "'StateCode_38.0',\n",
    "'StateCode_39.0',\n",
    "'StateCode_40.0',\n",
    "'StateCode_41.0',\n",
    "'StateCode_42.0',\n",
    "'StateCode_44.0',\n",
    "'StateCode_45.0',\n",
    "'StateCode_46.0',\n",
    "'StateCode_47.0',\n",
    "'StateCode_48.0',\n",
    "'StateCode_49.0',\n",
    "'StateCode_50.0',\n",
    "'StateCode_51.0',\n",
    "'StateCode_53.0',\n",
    "'StateCode_54.0',\n",
    "'StateCode_55.0',\n",
    "'StateCode_56.0',\n",
    "'StateCode_72.0',\n",
    "'StateCode_78.0',\n",
    "'ApplicantEthnicity_1.0',\n",
    "'ApplicantEthnicity_2.0',\n",
    "'ApplicantEthnicity_3.0',\n",
    "'ApplicantEthnicity_4.0',\n",
    "'ApplicantRace_1.0',\n",
    "'ApplicantRace_2.0',\n",
    "'ApplicantRace_3.0',\n",
    "'ApplicantRace_4.0',\n",
    "'ApplicantRace_5.0',\n",
    "'ApplicantRace_6.0',\n",
    "'ApplicantRace_7.0',\n",
    "'ApplicantSex_1.0',\n",
    "'ApplicantSex_2.0',\n",
    "'ApplicantSex_3.0',\n",
    "'ApplicantSex_4.0',\n",
    "'Occupancy_1.0',\n",
    "'Occupancy_2.0',\n",
    "'Occupancy_3.0',\n",
    "'PropertyType_1',\n",
    "'PropertyType_2',\n",
    "'LoanPurpose_1.0',\n",
    "'LoanPurpose_2.0',\n",
    "'LoanPurpose_3.0',  \n",
    "'SAL_0_50',\n",
    "'SAL_50_100',\n",
    "'SAL_100_150',\n",
    "'SAL_150_200',\n",
    "'SAL_200_250',\n",
    "'SAL_250_300',\n",
    "'SAL_300_350',\n",
    "'SAL_350_400',\n",
    "'SAL_400_450',\n",
    "'SAL_450_500',\n",
    "'SAL_500_5500',\n",
    "'SAL_5500_999999',\n",
    "'LonAmt_0_50',\n",
    "'LonAmt_50_100',\n",
    "'LonAmt_100_150',\n",
    "'LonAmt_150_200',\n",
    "'LonAmt_200_250',\n",
    "'LonAmt_250_300',\n",
    "'LonAmt_300_350',\n",
    "'LonAmt_350_400',\n",
    "'LonAmt_400_450',\n",
    "'LonAmt_450_500',\n",
    "'LonAmt_500_5500',\n",
    "'LonAmt_5500_999999']]"
   ]
  },
  {
   "cell_type": "code",
   "execution_count": null,
   "metadata": {},
   "outputs": [],
   "source": [
    "for col in df_selectdata_ML_sel:\n",
    "    print(\"'\"+col+\"',\")"
   ]
  },
  {
   "cell_type": "markdown",
   "metadata": {},
   "source": [
    "### Dataframe with salary and loan amount as columns"
   ]
  },
  {
   "cell_type": "code",
   "execution_count": null,
   "metadata": {},
   "outputs": [],
   "source": [
    "df_selectdata_ML_sel=df_selectdata_ML"
   ]
  },
  {
   "cell_type": "code",
   "execution_count": null,
   "metadata": {},
   "outputs": [],
   "source": [
    "df_selectdata_ML_sel=df_selectdata_ML_sel.drop('CoApplicantEthnicity',axis=1)\n",
    "df_selectdata_ML_sel=df_selectdata_ML_sel.drop('CoApplicantRace',axis=1)\n",
    "df_selectdata_ML_sel=df_selectdata_ML_sel.drop('CoApplicantSex',axis=1)\n",
    "df_selectdata_ML_sel=df_selectdata_ML_sel.drop('CLASSCODEFIPS',axis=1)\n",
    "df_selectdata_ML_sel=df_selectdata_ML_sel.drop('ActionType',axis=1)\n",
    "df_selectdata_ML_sel=df_selectdata_ML_sel.drop('MSA',axis=1)"
   ]
  },
  {
   "cell_type": "code",
   "execution_count": null,
   "metadata": {},
   "outputs": [],
   "source": [
    "df_selectdata_ML_sel=df_selectdata_ML_sel.loc[:,['Year',\n",
    "'CountyCode',\n",
    "'PurchaserType',\n",
    "'StateName',\n",
    "'CountyName',\n",
    "'Result',\n",
    "'Accepted',\n",
    "'StateCode_1.0',\n",
    "'StateCode_2.0',\n",
    "'StateCode_4.0',\n",
    "'StateCode_5.0',\n",
    "'StateCode_6.0',\n",
    "'StateCode_8.0',\n",
    "'StateCode_9.0',\n",
    "'StateCode_10.0',\n",
    "'StateCode_11.0',\n",
    "'StateCode_12.0',\n",
    "'StateCode_13.0',\n",
    "'StateCode_15.0',\n",
    "'StateCode_16.0',\n",
    "'StateCode_17.0',\n",
    "'StateCode_18.0',\n",
    "'StateCode_19.0',\n",
    "'StateCode_20.0',\n",
    "'StateCode_21.0',\n",
    "'StateCode_22.0',\n",
    "'StateCode_23.0',\n",
    "'StateCode_24.0',\n",
    "'StateCode_25.0',\n",
    "'StateCode_26.0',\n",
    "'StateCode_27.0',\n",
    "'StateCode_28.0',\n",
    "'StateCode_29.0',\n",
    "'StateCode_30.0',\n",
    "'StateCode_31.0',\n",
    "'StateCode_32.0',\n",
    "'StateCode_33.0',\n",
    "'StateCode_34.0',\n",
    "'StateCode_35.0',\n",
    "'StateCode_36.0',\n",
    "'StateCode_37.0',\n",
    "'StateCode_38.0',\n",
    "'StateCode_39.0',\n",
    "'StateCode_40.0',\n",
    "'StateCode_41.0',\n",
    "'StateCode_42.0',\n",
    "'StateCode_44.0',\n",
    "'StateCode_45.0',\n",
    "'StateCode_46.0',\n",
    "'StateCode_47.0',\n",
    "'StateCode_48.0',\n",
    "'StateCode_49.0',\n",
    "'StateCode_50.0',\n",
    "'StateCode_51.0',\n",
    "'StateCode_53.0',\n",
    "'StateCode_54.0',\n",
    "'StateCode_55.0',\n",
    "'StateCode_56.0',\n",
    "'StateCode_72.0',\n",
    "'StateCode_78.0',\n",
    "'ApplicantEthnicity_1.0',\n",
    "'ApplicantEthnicity_2.0',\n",
    "'ApplicantEthnicity_3.0',\n",
    "'ApplicantEthnicity_4.0',\n",
    "'ApplicantRace_1.0',\n",
    "'ApplicantRace_2.0',\n",
    "'ApplicantRace_3.0',\n",
    "'ApplicantRace_4.0',\n",
    "'ApplicantRace_5.0',\n",
    "'ApplicantRace_6.0',\n",
    "'ApplicantRace_7.0',\n",
    "'ApplicantSex_1.0',\n",
    "'ApplicantSex_2.0',\n",
    "'ApplicantSex_3.0',\n",
    "'ApplicantSex_4.0',\n",
    "'Occupancy_1.0',\n",
    "'Occupancy_2.0',\n",
    "'Occupancy_3.0',\n",
    "'PropertyType_1',\n",
    "'PropertyType_2',\n",
    "'LoanPurpose_1.0',\n",
    "'LoanPurpose_2.0',\n",
    "'LoanPurpose_3.0', \n",
    "'ApplicantIncome',\n",
    "'LoanAmount']]"
   ]
  },
  {
   "cell_type": "code",
   "execution_count": null,
   "metadata": {},
   "outputs": [],
   "source": [
    "#df_selecteddata.info()\n",
    "picklefilename='df_selectdata_ML_WSA.sa'\n",
    "# get the pickle file name to re confirm the previous files are not overriden.\n",
    "# Note: Run this file after confimring succesful completion of all above steps\n",
    "print(picklefilename)\n",
    "# create pickle file for further use \n",
    "pickle.dump(df_selectdata_ML_sel,open(picklefilename,'wb'), protocol=4)"
   ]
  },
  {
   "cell_type": "code",
   "execution_count": null,
   "metadata": {},
   "outputs": [],
   "source": [
    "len(df_selectdata_ML_sel)"
   ]
  },
  {
   "cell_type": "markdown",
   "metadata": {},
   "source": [
    "#### Start without dummy columns"
   ]
  },
  {
   "cell_type": "code",
   "execution_count": null,
   "metadata": {},
   "outputs": [],
   "source": [
    "#df_selectdata_ML_sel=df_selectdata_ML#.iloc[:,13:]\n",
    "df_selectdata_ML_sel=df_selectdata#.iloc[:,13:]"
   ]
  },
  {
   "cell_type": "code",
   "execution_count": null,
   "metadata": {},
   "outputs": [],
   "source": [
    "df_selectdata_ML_sel=df_selectdata_ML_sel.drop('CoApplicantEthnicity',axis=1)\n",
    "df_selectdata_ML_sel=df_selectdata_ML_sel.drop('CoApplicantRace',axis=1)\n",
    "df_selectdata_ML_sel=df_selectdata_ML_sel.drop('CoApplicantSex',axis=1)\n",
    "df_selectdata_ML_sel=df_selectdata_ML_sel.drop('CLASSCODEFIPS',axis=1)\n",
    "#df_selectdata_ML_sel=df_selectdata_ML_sel.drop('ActionType',axis=1)\n",
    "df_selectdata_ML_sel=df_selectdata_ML_sel.drop('MSA',axis=1)"
   ]
  },
  {
   "cell_type": "code",
   "execution_count": null,
   "metadata": {},
   "outputs": [],
   "source": [
    "df_selectdata_ML_sel=df_selectdata_ML_sel.loc[:,['Year',\n",
    "'PurchaserType',\n",
    "'CountyCode',\n",
    "'StateName',\n",
    "'CountyName',\n",
    "'StateCode',\n",
    "'Result',\n",
    "'Accepted',\n",
    "'ApplicantEthnicity',\n",
    "'ApplicantRace',\n",
    "'ApplicantSex',\n",
    "'ApplicantIncome', \n",
    "'Occupancy',\n",
    "'PropertyType',\n",
    "'LoanPurpose',\n",
    "'LoanAmount',\n",
    "'ActionType'\n",
    "]]"
   ]
  },
  {
   "cell_type": "code",
   "execution_count": null,
   "metadata": {},
   "outputs": [],
   "source": [
    "for col in df_selectdata_ML_sel:\n",
    "    print(\"'\"+col+\"',\")"
   ]
  },
  {
   "cell_type": "code",
   "execution_count": null,
   "metadata": {},
   "outputs": [],
   "source": [
    "#df_selecteddata.info()\n",
    "picklefilename='df_selectdata_W_Col.sa'\n",
    "# get the pickle file name to re confirm the previous files are not overriden.\n",
    "# Note: Run this file after confimring succesful completion of all above steps\n",
    "print(picklefilename)\n",
    "# create pickle file for further use \n",
    "pickle.dump(df_selectdata_ML_sel,open(picklefilename,'wb'), protocol=4)"
   ]
  },
  {
   "cell_type": "code",
   "execution_count": null,
   "metadata": {},
   "outputs": [],
   "source": [
    "#rough"
   ]
  },
  {
   "cell_type": "code",
   "execution_count": null,
   "metadata": {},
   "outputs": [],
   "source": [
    "%reset"
   ]
  },
  {
   "cell_type": "code",
   "execution_count": null,
   "metadata": {},
   "outputs": [],
   "source": []
  }
 ],
 "metadata": {
  "kernelspec": {
   "display_name": "Python 3",
   "language": "python",
   "name": "python3"
  },
  "language_info": {
   "codemirror_mode": {
    "name": "ipython",
    "version": 3
   },
   "file_extension": ".py",
   "mimetype": "text/x-python",
   "name": "python",
   "nbconvert_exporter": "python",
   "pygments_lexer": "ipython3",
   "version": "3.6.5"
  }
 },
 "nbformat": 4,
 "nbformat_minor": 2
}
